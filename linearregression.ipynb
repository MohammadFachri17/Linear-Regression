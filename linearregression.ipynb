{
 "cells": [
  {
   "cell_type": "code",
   "execution_count": 1,
   "id": "90b2eefc",
   "metadata": {
    "_cell_guid": "b1076dfc-b9ad-4769-8c92-a6c4dae69d19",
    "_uuid": "8f2839f25d086af736a60e9eeb907d3b93b6e0e5",
    "execution": {
     "iopub.execute_input": "2022-07-05T09:19:49.819880Z",
     "iopub.status.busy": "2022-07-05T09:19:49.818994Z",
     "iopub.status.idle": "2022-07-05T09:19:49.844973Z",
     "shell.execute_reply": "2022-07-05T09:19:49.843307Z"
    },
    "papermill": {
     "duration": 0.043757,
     "end_time": "2022-07-05T09:19:49.848057",
     "exception": false,
     "start_time": "2022-07-05T09:19:49.804300",
     "status": "completed"
    },
    "tags": []
   },
   "outputs": [
    {
     "name": "stdout",
     "output_type": "stream",
     "text": [
      "/kaggle/input/linear-regression/BMRI.JK.csv\n",
      "/kaggle/input/linear-regression/BDMN.JK.csv\n"
     ]
    }
   ],
   "source": [
    "# This Python 3 environment comes with many helpful analytics libraries installed\n",
    "# It is defined by the kaggle/python Docker image: https://github.com/kaggle/docker-python\n",
    "# For example, here's several helpful packages to load\n",
    "\n",
    "import numpy as np # linear algebra\n",
    "import pandas as pd # data processing, CSV file I/O (e.g. pd.read_csv)\n",
    "\n",
    "# Input data files are available in the read-only \"../input/\" directory\n",
    "# For example, running this (by clicking run or pressing Shift+Enter) will list all files under the input directory\n",
    "\n",
    "import os\n",
    "for dirname, _, filenames in os.walk('/kaggle/input'):\n",
    "    for filename in filenames:\n",
    "        print(os.path.join(dirname, filename))\n",
    "\n",
    "# You can write up to 20GB to the current directory (/kaggle/working/) that gets preserved as output when you create a version using \"Save & Run All\" \n",
    "# You can also write temporary files to /kaggle/temp/, but they won't be saved outside of the current session"
   ]
  },
  {
   "cell_type": "code",
   "execution_count": 2,
   "id": "ee963fe7",
   "metadata": {
    "execution": {
     "iopub.execute_input": "2022-07-05T09:19:49.865131Z",
     "iopub.status.busy": "2022-07-05T09:19:49.864711Z",
     "iopub.status.idle": "2022-07-05T09:19:50.938037Z",
     "shell.execute_reply": "2022-07-05T09:19:50.936806Z"
    },
    "papermill": {
     "duration": 1.085597,
     "end_time": "2022-07-05T09:19:50.941581",
     "exception": false,
     "start_time": "2022-07-05T09:19:49.855984",
     "status": "completed"
    },
    "tags": []
   },
   "outputs": [],
   "source": [
    "import numpy as np\n",
    "import pandas as pd\n",
    "import seaborn as sns"
   ]
  },
  {
   "cell_type": "markdown",
   "id": "449d53ba",
   "metadata": {
    "papermill": {
     "duration": 0.007342,
     "end_time": "2022-07-05T09:19:50.956491",
     "exception": false,
     "start_time": "2022-07-05T09:19:50.949149",
     "status": "completed"
    },
    "tags": []
   },
   "source": [
    "# **BDMN DATA LOAD**"
   ]
  },
  {
   "cell_type": "code",
   "execution_count": 3,
   "id": "e7b9dff2",
   "metadata": {
    "execution": {
     "iopub.execute_input": "2022-07-05T09:19:50.973013Z",
     "iopub.status.busy": "2022-07-05T09:19:50.972473Z",
     "iopub.status.idle": "2022-07-05T09:19:51.008962Z",
     "shell.execute_reply": "2022-07-05T09:19:51.007501Z"
    },
    "papermill": {
     "duration": 0.047439,
     "end_time": "2022-07-05T09:19:51.011536",
     "exception": false,
     "start_time": "2022-07-05T09:19:50.964097",
     "status": "completed"
    },
    "tags": []
   },
   "outputs": [
    {
     "name": "stdout",
     "output_type": "stream",
     "text": [
      "<class 'pandas.core.frame.DataFrame'>\n",
      "RangeIndex: 13 entries, 0 to 12\n",
      "Data columns (total 7 columns):\n",
      " #   Column     Non-Null Count  Dtype  \n",
      "---  ------     --------------  -----  \n",
      " 0   Date       13 non-null     object \n",
      " 1   Open       13 non-null     int64  \n",
      " 2   High       13 non-null     int64  \n",
      " 3   Low        13 non-null     int64  \n",
      " 4   Close      13 non-null     int64  \n",
      " 5   Adj Close  13 non-null     float64\n",
      " 6   Volume     13 non-null     int64  \n",
      "dtypes: float64(1), int64(5), object(1)\n",
      "memory usage: 856.0+ bytes\n"
     ]
    }
   ],
   "source": [
    "BDMN = pd.read_csv('../input/linear-regression/BDMN.JK.csv')\n",
    "BDMN.info()"
   ]
  },
  {
   "cell_type": "code",
   "execution_count": 4,
   "id": "0a5cf42a",
   "metadata": {
    "execution": {
     "iopub.execute_input": "2022-07-05T09:19:51.027988Z",
     "iopub.status.busy": "2022-07-05T09:19:51.027591Z",
     "iopub.status.idle": "2022-07-05T09:19:51.047035Z",
     "shell.execute_reply": "2022-07-05T09:19:51.046274Z"
    },
    "papermill": {
     "duration": 0.030086,
     "end_time": "2022-07-05T09:19:51.048999",
     "exception": false,
     "start_time": "2022-07-05T09:19:51.018913",
     "status": "completed"
    },
    "tags": []
   },
   "outputs": [
    {
     "data": {
      "text/html": [
       "<div>\n",
       "<style scoped>\n",
       "    .dataframe tbody tr th:only-of-type {\n",
       "        vertical-align: middle;\n",
       "    }\n",
       "\n",
       "    .dataframe tbody tr th {\n",
       "        vertical-align: top;\n",
       "    }\n",
       "\n",
       "    .dataframe thead th {\n",
       "        text-align: right;\n",
       "    }\n",
       "</style>\n",
       "<table border=\"1\" class=\"dataframe\">\n",
       "  <thead>\n",
       "    <tr style=\"text-align: right;\">\n",
       "      <th></th>\n",
       "      <th>Date</th>\n",
       "      <th>Open</th>\n",
       "      <th>High</th>\n",
       "      <th>Low</th>\n",
       "      <th>Close</th>\n",
       "      <th>Adj Close</th>\n",
       "      <th>Volume</th>\n",
       "    </tr>\n",
       "  </thead>\n",
       "  <tbody>\n",
       "    <tr>\n",
       "      <th>0</th>\n",
       "      <td>8/1/2021</td>\n",
       "      <td>2170</td>\n",
       "      <td>2530</td>\n",
       "      <td>2140</td>\n",
       "      <td>2350</td>\n",
       "      <td>2295.747803</td>\n",
       "      <td>110748000</td>\n",
       "    </tr>\n",
       "    <tr>\n",
       "      <th>1</th>\n",
       "      <td>9/1/2021</td>\n",
       "      <td>2400</td>\n",
       "      <td>3050</td>\n",
       "      <td>2350</td>\n",
       "      <td>2660</td>\n",
       "      <td>2598.591064</td>\n",
       "      <td>284101500</td>\n",
       "    </tr>\n",
       "    <tr>\n",
       "      <th>2</th>\n",
       "      <td>10/1/2021</td>\n",
       "      <td>2650</td>\n",
       "      <td>2980</td>\n",
       "      <td>2610</td>\n",
       "      <td>2690</td>\n",
       "      <td>2627.898438</td>\n",
       "      <td>107574100</td>\n",
       "    </tr>\n",
       "    <tr>\n",
       "      <th>3</th>\n",
       "      <td>11/1/2021</td>\n",
       "      <td>2700</td>\n",
       "      <td>2700</td>\n",
       "      <td>2400</td>\n",
       "      <td>2410</td>\n",
       "      <td>2354.362549</td>\n",
       "      <td>110416900</td>\n",
       "    </tr>\n",
       "    <tr>\n",
       "      <th>4</th>\n",
       "      <td>12/1/2021</td>\n",
       "      <td>2440</td>\n",
       "      <td>2510</td>\n",
       "      <td>2300</td>\n",
       "      <td>2350</td>\n",
       "      <td>2295.747803</td>\n",
       "      <td>61795900</td>\n",
       "    </tr>\n",
       "    <tr>\n",
       "      <th>5</th>\n",
       "      <td>1/1/2022</td>\n",
       "      <td>2350</td>\n",
       "      <td>2460</td>\n",
       "      <td>2300</td>\n",
       "      <td>2400</td>\n",
       "      <td>2344.593506</td>\n",
       "      <td>41035300</td>\n",
       "    </tr>\n",
       "    <tr>\n",
       "      <th>6</th>\n",
       "      <td>2/1/2022</td>\n",
       "      <td>2410</td>\n",
       "      <td>2540</td>\n",
       "      <td>2350</td>\n",
       "      <td>2380</td>\n",
       "      <td>2325.055176</td>\n",
       "      <td>54677100</td>\n",
       "    </tr>\n",
       "    <tr>\n",
       "      <th>7</th>\n",
       "      <td>3/1/2022</td>\n",
       "      <td>2390</td>\n",
       "      <td>2470</td>\n",
       "      <td>2270</td>\n",
       "      <td>2440</td>\n",
       "      <td>2383.669922</td>\n",
       "      <td>43934900</td>\n",
       "    </tr>\n",
       "    <tr>\n",
       "      <th>8</th>\n",
       "      <td>4/1/2022</td>\n",
       "      <td>2440</td>\n",
       "      <td>2510</td>\n",
       "      <td>2300</td>\n",
       "      <td>2450</td>\n",
       "      <td>2393.439209</td>\n",
       "      <td>56452900</td>\n",
       "    </tr>\n",
       "    <tr>\n",
       "      <th>9</th>\n",
       "      <td>5/1/2022</td>\n",
       "      <td>2450</td>\n",
       "      <td>2560</td>\n",
       "      <td>2320</td>\n",
       "      <td>2560</td>\n",
       "      <td>2560.000000</td>\n",
       "      <td>51642300</td>\n",
       "    </tr>\n",
       "    <tr>\n",
       "      <th>10</th>\n",
       "      <td>6/1/2022</td>\n",
       "      <td>2570</td>\n",
       "      <td>2710</td>\n",
       "      <td>2340</td>\n",
       "      <td>2350</td>\n",
       "      <td>2350.000000</td>\n",
       "      <td>69623100</td>\n",
       "    </tr>\n",
       "    <tr>\n",
       "      <th>11</th>\n",
       "      <td>7/1/2022</td>\n",
       "      <td>2350</td>\n",
       "      <td>2370</td>\n",
       "      <td>2300</td>\n",
       "      <td>2320</td>\n",
       "      <td>2320.000000</td>\n",
       "      <td>3714800</td>\n",
       "    </tr>\n",
       "    <tr>\n",
       "      <th>12</th>\n",
       "      <td>7/5/2022</td>\n",
       "      <td>2330</td>\n",
       "      <td>2360</td>\n",
       "      <td>2320</td>\n",
       "      <td>2350</td>\n",
       "      <td>2350.000000</td>\n",
       "      <td>1399700</td>\n",
       "    </tr>\n",
       "  </tbody>\n",
       "</table>\n",
       "</div>"
      ],
      "text/plain": [
       "         Date  Open  High   Low  Close    Adj Close     Volume\n",
       "0    8/1/2021  2170  2530  2140   2350  2295.747803  110748000\n",
       "1    9/1/2021  2400  3050  2350   2660  2598.591064  284101500\n",
       "2   10/1/2021  2650  2980  2610   2690  2627.898438  107574100\n",
       "3   11/1/2021  2700  2700  2400   2410  2354.362549  110416900\n",
       "4   12/1/2021  2440  2510  2300   2350  2295.747803   61795900\n",
       "5    1/1/2022  2350  2460  2300   2400  2344.593506   41035300\n",
       "6    2/1/2022  2410  2540  2350   2380  2325.055176   54677100\n",
       "7    3/1/2022  2390  2470  2270   2440  2383.669922   43934900\n",
       "8    4/1/2022  2440  2510  2300   2450  2393.439209   56452900\n",
       "9    5/1/2022  2450  2560  2320   2560  2560.000000   51642300\n",
       "10   6/1/2022  2570  2710  2340   2350  2350.000000   69623100\n",
       "11   7/1/2022  2350  2370  2300   2320  2320.000000    3714800\n",
       "12   7/5/2022  2330  2360  2320   2350  2350.000000    1399700"
      ]
     },
     "metadata": {},
     "output_type": "display_data"
    }
   ],
   "source": [
    "display(BDMN)"
   ]
  },
  {
   "cell_type": "code",
   "execution_count": 5,
   "id": "bc82014c",
   "metadata": {
    "execution": {
     "iopub.execute_input": "2022-07-05T09:19:51.066398Z",
     "iopub.status.busy": "2022-07-05T09:19:51.065708Z",
     "iopub.status.idle": "2022-07-05T09:19:51.070934Z",
     "shell.execute_reply": "2022-07-05T09:19:51.069510Z"
    },
    "papermill": {
     "duration": 0.016599,
     "end_time": "2022-07-05T09:19:51.073257",
     "exception": false,
     "start_time": "2022-07-05T09:19:51.056658",
     "status": "completed"
    },
    "tags": []
   },
   "outputs": [
    {
     "name": "stdout",
     "output_type": "stream",
     "text": [
      "(13, 7)\n"
     ]
    }
   ],
   "source": [
    "print(BDMN.shape)"
   ]
  },
  {
   "cell_type": "code",
   "execution_count": 6,
   "id": "d01bc166",
   "metadata": {
    "execution": {
     "iopub.execute_input": "2022-07-05T09:19:51.090358Z",
     "iopub.status.busy": "2022-07-05T09:19:51.089946Z",
     "iopub.status.idle": "2022-07-05T09:19:51.102110Z",
     "shell.execute_reply": "2022-07-05T09:19:51.100797Z"
    },
    "papermill": {
     "duration": 0.023337,
     "end_time": "2022-07-05T09:19:51.104481",
     "exception": false,
     "start_time": "2022-07-05T09:19:51.081144",
     "status": "completed"
    },
    "tags": []
   },
   "outputs": [
    {
     "name": "stdout",
     "output_type": "stream",
     "text": [
      "<class 'pandas.core.frame.DataFrame'>\n",
      "RangeIndex: 13 entries, 0 to 12\n",
      "Data columns (total 7 columns):\n",
      " #   Column     Non-Null Count  Dtype  \n",
      "---  ------     --------------  -----  \n",
      " 0   Date       13 non-null     object \n",
      " 1   Open       13 non-null     int64  \n",
      " 2   High       13 non-null     int64  \n",
      " 3   Low        13 non-null     int64  \n",
      " 4   Close      13 non-null     int64  \n",
      " 5   Adj Close  13 non-null     float64\n",
      " 6   Volume     13 non-null     int64  \n",
      "dtypes: float64(1), int64(5), object(1)\n",
      "memory usage: 856.0+ bytes\n",
      "None\n"
     ]
    }
   ],
   "source": [
    "print(BDMN.info()) "
   ]
  },
  {
   "cell_type": "markdown",
   "id": "646fda81",
   "metadata": {
    "papermill": {
     "duration": 0.007456,
     "end_time": "2022-07-05T09:19:51.119716",
     "exception": false,
     "start_time": "2022-07-05T09:19:51.112260",
     "status": "completed"
    },
    "tags": []
   },
   "source": [
    "# **BMRI DATA LOAD**"
   ]
  },
  {
   "cell_type": "code",
   "execution_count": 7,
   "id": "10f0d54f",
   "metadata": {
    "execution": {
     "iopub.execute_input": "2022-07-05T09:19:51.136933Z",
     "iopub.status.busy": "2022-07-05T09:19:51.136210Z",
     "iopub.status.idle": "2022-07-05T09:19:51.152953Z",
     "shell.execute_reply": "2022-07-05T09:19:51.151474Z"
    },
    "papermill": {
     "duration": 0.027936,
     "end_time": "2022-07-05T09:19:51.155293",
     "exception": false,
     "start_time": "2022-07-05T09:19:51.127357",
     "status": "completed"
    },
    "tags": []
   },
   "outputs": [
    {
     "name": "stdout",
     "output_type": "stream",
     "text": [
      "<class 'pandas.core.frame.DataFrame'>\n",
      "RangeIndex: 13 entries, 0 to 12\n",
      "Data columns (total 7 columns):\n",
      " #   Column     Non-Null Count  Dtype  \n",
      "---  ------     --------------  -----  \n",
      " 0   Date       13 non-null     object \n",
      " 1   Open       13 non-null     int64  \n",
      " 2   High       13 non-null     int64  \n",
      " 3   Low        13 non-null     int64  \n",
      " 4   Close      13 non-null     int64  \n",
      " 5   Adj Close  13 non-null     float64\n",
      " 6   Volume     13 non-null     int64  \n",
      "dtypes: float64(1), int64(5), object(1)\n",
      "memory usage: 856.0+ bytes\n"
     ]
    }
   ],
   "source": [
    "BMRI = pd.read_csv('../input/linear-regression/BMRI.JK.csv')\n",
    "BMRI.info()"
   ]
  },
  {
   "cell_type": "code",
   "execution_count": 8,
   "id": "839506db",
   "metadata": {
    "execution": {
     "iopub.execute_input": "2022-07-05T09:19:51.173250Z",
     "iopub.status.busy": "2022-07-05T09:19:51.172305Z",
     "iopub.status.idle": "2022-07-05T09:19:51.186716Z",
     "shell.execute_reply": "2022-07-05T09:19:51.185669Z"
    },
    "papermill": {
     "duration": 0.025585,
     "end_time": "2022-07-05T09:19:51.188841",
     "exception": false,
     "start_time": "2022-07-05T09:19:51.163256",
     "status": "completed"
    },
    "tags": []
   },
   "outputs": [
    {
     "data": {
      "text/html": [
       "<div>\n",
       "<style scoped>\n",
       "    .dataframe tbody tr th:only-of-type {\n",
       "        vertical-align: middle;\n",
       "    }\n",
       "\n",
       "    .dataframe tbody tr th {\n",
       "        vertical-align: top;\n",
       "    }\n",
       "\n",
       "    .dataframe thead th {\n",
       "        text-align: right;\n",
       "    }\n",
       "</style>\n",
       "<table border=\"1\" class=\"dataframe\">\n",
       "  <thead>\n",
       "    <tr style=\"text-align: right;\">\n",
       "      <th></th>\n",
       "      <th>Date</th>\n",
       "      <th>Open</th>\n",
       "      <th>High</th>\n",
       "      <th>Low</th>\n",
       "      <th>Close</th>\n",
       "      <th>Adj Close</th>\n",
       "      <th>Volume</th>\n",
       "    </tr>\n",
       "  </thead>\n",
       "  <tbody>\n",
       "    <tr>\n",
       "      <th>0</th>\n",
       "      <td>8/1/2021</td>\n",
       "      <td>5775</td>\n",
       "      <td>6175</td>\n",
       "      <td>5625</td>\n",
       "      <td>6100</td>\n",
       "      <td>5822.413086</td>\n",
       "      <td>726088000</td>\n",
       "    </tr>\n",
       "    <tr>\n",
       "      <th>1</th>\n",
       "      <td>9/1/2021</td>\n",
       "      <td>6100</td>\n",
       "      <td>6350</td>\n",
       "      <td>5900</td>\n",
       "      <td>6150</td>\n",
       "      <td>5870.137695</td>\n",
       "      <td>770940800</td>\n",
       "    </tr>\n",
       "    <tr>\n",
       "      <th>2</th>\n",
       "      <td>10/1/2021</td>\n",
       "      <td>6150</td>\n",
       "      <td>7325</td>\n",
       "      <td>6050</td>\n",
       "      <td>7175</td>\n",
       "      <td>6848.494141</td>\n",
       "      <td>1296133600</td>\n",
       "    </tr>\n",
       "    <tr>\n",
       "      <th>3</th>\n",
       "      <td>11/1/2021</td>\n",
       "      <td>7250</td>\n",
       "      <td>7500</td>\n",
       "      <td>6850</td>\n",
       "      <td>7000</td>\n",
       "      <td>6681.457520</td>\n",
       "      <td>944089900</td>\n",
       "    </tr>\n",
       "    <tr>\n",
       "      <th>4</th>\n",
       "      <td>12/1/2021</td>\n",
       "      <td>7000</td>\n",
       "      <td>7350</td>\n",
       "      <td>6950</td>\n",
       "      <td>7025</td>\n",
       "      <td>6705.319824</td>\n",
       "      <td>616972700</td>\n",
       "    </tr>\n",
       "    <tr>\n",
       "      <th>5</th>\n",
       "      <td>1/1/2022</td>\n",
       "      <td>7100</td>\n",
       "      <td>7775</td>\n",
       "      <td>6925</td>\n",
       "      <td>7475</td>\n",
       "      <td>7134.842285</td>\n",
       "      <td>724225600</td>\n",
       "    </tr>\n",
       "    <tr>\n",
       "      <th>6</th>\n",
       "      <td>2/1/2022</td>\n",
       "      <td>7525</td>\n",
       "      <td>7950</td>\n",
       "      <td>7350</td>\n",
       "      <td>7700</td>\n",
       "      <td>7349.603516</td>\n",
       "      <td>806827300</td>\n",
       "    </tr>\n",
       "    <tr>\n",
       "      <th>7</th>\n",
       "      <td>3/1/2022</td>\n",
       "      <td>7675</td>\n",
       "      <td>8100</td>\n",
       "      <td>7500</td>\n",
       "      <td>7900</td>\n",
       "      <td>7540.501953</td>\n",
       "      <td>1611658200</td>\n",
       "    </tr>\n",
       "    <tr>\n",
       "      <th>8</th>\n",
       "      <td>4/1/2022</td>\n",
       "      <td>7900</td>\n",
       "      <td>9075</td>\n",
       "      <td>7575</td>\n",
       "      <td>8950</td>\n",
       "      <td>8950.000000</td>\n",
       "      <td>1345265900</td>\n",
       "    </tr>\n",
       "    <tr>\n",
       "      <th>9</th>\n",
       "      <td>5/1/2022</td>\n",
       "      <td>8950</td>\n",
       "      <td>8950</td>\n",
       "      <td>7725</td>\n",
       "      <td>8500</td>\n",
       "      <td>8500.000000</td>\n",
       "      <td>1434930200</td>\n",
       "    </tr>\n",
       "    <tr>\n",
       "      <th>10</th>\n",
       "      <td>6/1/2022</td>\n",
       "      <td>8325</td>\n",
       "      <td>8500</td>\n",
       "      <td>7900</td>\n",
       "      <td>7925</td>\n",
       "      <td>7925.000000</td>\n",
       "      <td>1318737000</td>\n",
       "    </tr>\n",
       "    <tr>\n",
       "      <th>11</th>\n",
       "      <td>7/1/2022</td>\n",
       "      <td>7875</td>\n",
       "      <td>7925</td>\n",
       "      <td>7275</td>\n",
       "      <td>7400</td>\n",
       "      <td>7400.000000</td>\n",
       "      <td>219044600</td>\n",
       "    </tr>\n",
       "    <tr>\n",
       "      <th>12</th>\n",
       "      <td>7/5/2022</td>\n",
       "      <td>7450</td>\n",
       "      <td>7725</td>\n",
       "      <td>7450</td>\n",
       "      <td>7650</td>\n",
       "      <td>7650.000000</td>\n",
       "      <td>44214100</td>\n",
       "    </tr>\n",
       "  </tbody>\n",
       "</table>\n",
       "</div>"
      ],
      "text/plain": [
       "         Date  Open  High   Low  Close    Adj Close      Volume\n",
       "0    8/1/2021  5775  6175  5625   6100  5822.413086   726088000\n",
       "1    9/1/2021  6100  6350  5900   6150  5870.137695   770940800\n",
       "2   10/1/2021  6150  7325  6050   7175  6848.494141  1296133600\n",
       "3   11/1/2021  7250  7500  6850   7000  6681.457520   944089900\n",
       "4   12/1/2021  7000  7350  6950   7025  6705.319824   616972700\n",
       "5    1/1/2022  7100  7775  6925   7475  7134.842285   724225600\n",
       "6    2/1/2022  7525  7950  7350   7700  7349.603516   806827300\n",
       "7    3/1/2022  7675  8100  7500   7900  7540.501953  1611658200\n",
       "8    4/1/2022  7900  9075  7575   8950  8950.000000  1345265900\n",
       "9    5/1/2022  8950  8950  7725   8500  8500.000000  1434930200\n",
       "10   6/1/2022  8325  8500  7900   7925  7925.000000  1318737000\n",
       "11   7/1/2022  7875  7925  7275   7400  7400.000000   219044600\n",
       "12   7/5/2022  7450  7725  7450   7650  7650.000000    44214100"
      ]
     },
     "metadata": {},
     "output_type": "display_data"
    }
   ],
   "source": [
    "display(BMRI)"
   ]
  },
  {
   "cell_type": "code",
   "execution_count": 9,
   "id": "7642910e",
   "metadata": {
    "execution": {
     "iopub.execute_input": "2022-07-05T09:19:51.207288Z",
     "iopub.status.busy": "2022-07-05T09:19:51.206629Z",
     "iopub.status.idle": "2022-07-05T09:19:51.211878Z",
     "shell.execute_reply": "2022-07-05T09:19:51.210496Z"
    },
    "papermill": {
     "duration": 0.016903,
     "end_time": "2022-07-05T09:19:51.214003",
     "exception": false,
     "start_time": "2022-07-05T09:19:51.197100",
     "status": "completed"
    },
    "tags": []
   },
   "outputs": [
    {
     "name": "stdout",
     "output_type": "stream",
     "text": [
      "(13, 7)\n"
     ]
    }
   ],
   "source": [
    "print(BMRI.shape)"
   ]
  },
  {
   "cell_type": "code",
   "execution_count": 10,
   "id": "c88c0c2c",
   "metadata": {
    "execution": {
     "iopub.execute_input": "2022-07-05T09:19:51.232012Z",
     "iopub.status.busy": "2022-07-05T09:19:51.231624Z",
     "iopub.status.idle": "2022-07-05T09:19:51.244403Z",
     "shell.execute_reply": "2022-07-05T09:19:51.242910Z"
    },
    "papermill": {
     "duration": 0.025344,
     "end_time": "2022-07-05T09:19:51.247614",
     "exception": false,
     "start_time": "2022-07-05T09:19:51.222270",
     "status": "completed"
    },
    "tags": []
   },
   "outputs": [
    {
     "name": "stdout",
     "output_type": "stream",
     "text": [
      "<class 'pandas.core.frame.DataFrame'>\n",
      "RangeIndex: 13 entries, 0 to 12\n",
      "Data columns (total 7 columns):\n",
      " #   Column     Non-Null Count  Dtype  \n",
      "---  ------     --------------  -----  \n",
      " 0   Date       13 non-null     object \n",
      " 1   Open       13 non-null     int64  \n",
      " 2   High       13 non-null     int64  \n",
      " 3   Low        13 non-null     int64  \n",
      " 4   Close      13 non-null     int64  \n",
      " 5   Adj Close  13 non-null     float64\n",
      " 6   Volume     13 non-null     int64  \n",
      "dtypes: float64(1), int64(5), object(1)\n",
      "memory usage: 856.0+ bytes\n",
      "None\n"
     ]
    }
   ],
   "source": [
    "print(BMRI.info())"
   ]
  },
  {
   "cell_type": "markdown",
   "id": "45c53723",
   "metadata": {
    "papermill": {
     "duration": 0.008487,
     "end_time": "2022-07-05T09:19:51.264750",
     "exception": false,
     "start_time": "2022-07-05T09:19:51.256263",
     "status": "completed"
    },
    "tags": []
   },
   "source": [
    "# **Data Preparation**"
   ]
  },
  {
   "cell_type": "code",
   "execution_count": 11,
   "id": "92c9ad6f",
   "metadata": {
    "execution": {
     "iopub.execute_input": "2022-07-05T09:19:51.283549Z",
     "iopub.status.busy": "2022-07-05T09:19:51.283161Z",
     "iopub.status.idle": "2022-07-05T09:19:51.296132Z",
     "shell.execute_reply": "2022-07-05T09:19:51.294876Z"
    },
    "papermill": {
     "duration": 0.025232,
     "end_time": "2022-07-05T09:19:51.298472",
     "exception": false,
     "start_time": "2022-07-05T09:19:51.273240",
     "status": "completed"
    },
    "tags": []
   },
   "outputs": [
    {
     "data": {
      "text/html": [
       "<div>\n",
       "<style scoped>\n",
       "    .dataframe tbody tr th:only-of-type {\n",
       "        vertical-align: middle;\n",
       "    }\n",
       "\n",
       "    .dataframe tbody tr th {\n",
       "        vertical-align: top;\n",
       "    }\n",
       "\n",
       "    .dataframe thead th {\n",
       "        text-align: right;\n",
       "    }\n",
       "</style>\n",
       "<table border=\"1\" class=\"dataframe\">\n",
       "  <thead>\n",
       "    <tr style=\"text-align: right;\">\n",
       "      <th></th>\n",
       "      <th>BDMN</th>\n",
       "    </tr>\n",
       "  </thead>\n",
       "  <tbody>\n",
       "    <tr>\n",
       "      <th>0</th>\n",
       "      <td>2350</td>\n",
       "    </tr>\n",
       "    <tr>\n",
       "      <th>1</th>\n",
       "      <td>2660</td>\n",
       "    </tr>\n",
       "    <tr>\n",
       "      <th>2</th>\n",
       "      <td>2690</td>\n",
       "    </tr>\n",
       "    <tr>\n",
       "      <th>3</th>\n",
       "      <td>2410</td>\n",
       "    </tr>\n",
       "    <tr>\n",
       "      <th>4</th>\n",
       "      <td>2350</td>\n",
       "    </tr>\n",
       "    <tr>\n",
       "      <th>5</th>\n",
       "      <td>2400</td>\n",
       "    </tr>\n",
       "    <tr>\n",
       "      <th>6</th>\n",
       "      <td>2380</td>\n",
       "    </tr>\n",
       "    <tr>\n",
       "      <th>7</th>\n",
       "      <td>2440</td>\n",
       "    </tr>\n",
       "    <tr>\n",
       "      <th>8</th>\n",
       "      <td>2450</td>\n",
       "    </tr>\n",
       "    <tr>\n",
       "      <th>9</th>\n",
       "      <td>2560</td>\n",
       "    </tr>\n",
       "    <tr>\n",
       "      <th>10</th>\n",
       "      <td>2350</td>\n",
       "    </tr>\n",
       "    <tr>\n",
       "      <th>11</th>\n",
       "      <td>2320</td>\n",
       "    </tr>\n",
       "    <tr>\n",
       "      <th>12</th>\n",
       "      <td>2350</td>\n",
       "    </tr>\n",
       "  </tbody>\n",
       "</table>\n",
       "</div>"
      ],
      "text/plain": [
       "    BDMN\n",
       "0   2350\n",
       "1   2660\n",
       "2   2690\n",
       "3   2410\n",
       "4   2350\n",
       "5   2400\n",
       "6   2380\n",
       "7   2440\n",
       "8   2450\n",
       "9   2560\n",
       "10  2350\n",
       "11  2320\n",
       "12  2350"
      ]
     },
     "metadata": {},
     "output_type": "display_data"
    }
   ],
   "source": [
    "BDMN_closing=pd.read_csv('../input/linear-regression/BDMN.JK.csv' , usecols =['Close'])\n",
    "BDMN = BDMN_closing.rename(columns={'Close': 'BDMN'})\n",
    "display(BDMN)"
   ]
  },
  {
   "cell_type": "code",
   "execution_count": 12,
   "id": "2f85fcdc",
   "metadata": {
    "execution": {
     "iopub.execute_input": "2022-07-05T09:19:51.317989Z",
     "iopub.status.busy": "2022-07-05T09:19:51.317359Z",
     "iopub.status.idle": "2022-07-05T09:19:51.329859Z",
     "shell.execute_reply": "2022-07-05T09:19:51.328825Z"
    },
    "papermill": {
     "duration": 0.024777,
     "end_time": "2022-07-05T09:19:51.331973",
     "exception": false,
     "start_time": "2022-07-05T09:19:51.307196",
     "status": "completed"
    },
    "tags": []
   },
   "outputs": [
    {
     "data": {
      "text/html": [
       "<div>\n",
       "<style scoped>\n",
       "    .dataframe tbody tr th:only-of-type {\n",
       "        vertical-align: middle;\n",
       "    }\n",
       "\n",
       "    .dataframe tbody tr th {\n",
       "        vertical-align: top;\n",
       "    }\n",
       "\n",
       "    .dataframe thead th {\n",
       "        text-align: right;\n",
       "    }\n",
       "</style>\n",
       "<table border=\"1\" class=\"dataframe\">\n",
       "  <thead>\n",
       "    <tr style=\"text-align: right;\">\n",
       "      <th></th>\n",
       "      <th>BMRI</th>\n",
       "    </tr>\n",
       "  </thead>\n",
       "  <tbody>\n",
       "    <tr>\n",
       "      <th>0</th>\n",
       "      <td>6100</td>\n",
       "    </tr>\n",
       "    <tr>\n",
       "      <th>1</th>\n",
       "      <td>6150</td>\n",
       "    </tr>\n",
       "    <tr>\n",
       "      <th>2</th>\n",
       "      <td>7175</td>\n",
       "    </tr>\n",
       "    <tr>\n",
       "      <th>3</th>\n",
       "      <td>7000</td>\n",
       "    </tr>\n",
       "    <tr>\n",
       "      <th>4</th>\n",
       "      <td>7025</td>\n",
       "    </tr>\n",
       "    <tr>\n",
       "      <th>5</th>\n",
       "      <td>7475</td>\n",
       "    </tr>\n",
       "    <tr>\n",
       "      <th>6</th>\n",
       "      <td>7700</td>\n",
       "    </tr>\n",
       "    <tr>\n",
       "      <th>7</th>\n",
       "      <td>7900</td>\n",
       "    </tr>\n",
       "    <tr>\n",
       "      <th>8</th>\n",
       "      <td>8950</td>\n",
       "    </tr>\n",
       "    <tr>\n",
       "      <th>9</th>\n",
       "      <td>8500</td>\n",
       "    </tr>\n",
       "    <tr>\n",
       "      <th>10</th>\n",
       "      <td>7925</td>\n",
       "    </tr>\n",
       "    <tr>\n",
       "      <th>11</th>\n",
       "      <td>7400</td>\n",
       "    </tr>\n",
       "    <tr>\n",
       "      <th>12</th>\n",
       "      <td>7650</td>\n",
       "    </tr>\n",
       "  </tbody>\n",
       "</table>\n",
       "</div>"
      ],
      "text/plain": [
       "    BMRI\n",
       "0   6100\n",
       "1   6150\n",
       "2   7175\n",
       "3   7000\n",
       "4   7025\n",
       "5   7475\n",
       "6   7700\n",
       "7   7900\n",
       "8   8950\n",
       "9   8500\n",
       "10  7925\n",
       "11  7400\n",
       "12  7650"
      ]
     },
     "metadata": {},
     "output_type": "display_data"
    }
   ],
   "source": [
    "BMRI_closing=pd.read_csv('../input/linear-regression/BMRI.JK.csv' , usecols =['Close'])\n",
    "BMRI = BMRI_closing.rename(columns={'Close': 'BMRI'})\n",
    "display(BMRI)"
   ]
  },
  {
   "cell_type": "markdown",
   "id": "793e41ae",
   "metadata": {
    "papermill": {
     "duration": 0.008669,
     "end_time": "2022-07-05T09:19:51.349876",
     "exception": false,
     "start_time": "2022-07-05T09:19:51.341207",
     "status": "completed"
    },
    "tags": []
   },
   "source": [
    "# **MERGING DATA**"
   ]
  },
  {
   "cell_type": "code",
   "execution_count": 13,
   "id": "4f055d07",
   "metadata": {
    "execution": {
     "iopub.execute_input": "2022-07-05T09:19:51.369499Z",
     "iopub.status.busy": "2022-07-05T09:19:51.368871Z",
     "iopub.status.idle": "2022-07-05T09:19:51.386052Z",
     "shell.execute_reply": "2022-07-05T09:19:51.384926Z"
    },
    "papermill": {
     "duration": 0.029465,
     "end_time": "2022-07-05T09:19:51.388282",
     "exception": false,
     "start_time": "2022-07-05T09:19:51.358817",
     "status": "completed"
    },
    "tags": []
   },
   "outputs": [
    {
     "data": {
      "text/html": [
       "<div>\n",
       "<style scoped>\n",
       "    .dataframe tbody tr th:only-of-type {\n",
       "        vertical-align: middle;\n",
       "    }\n",
       "\n",
       "    .dataframe tbody tr th {\n",
       "        vertical-align: top;\n",
       "    }\n",
       "\n",
       "    .dataframe thead th {\n",
       "        text-align: right;\n",
       "    }\n",
       "</style>\n",
       "<table border=\"1\" class=\"dataframe\">\n",
       "  <thead>\n",
       "    <tr style=\"text-align: right;\">\n",
       "      <th></th>\n",
       "      <th>BMRI</th>\n",
       "      <th>BDMN</th>\n",
       "    </tr>\n",
       "  </thead>\n",
       "  <tbody>\n",
       "    <tr>\n",
       "      <th>0</th>\n",
       "      <td>6100</td>\n",
       "      <td>2350</td>\n",
       "    </tr>\n",
       "    <tr>\n",
       "      <th>1</th>\n",
       "      <td>6150</td>\n",
       "      <td>2660</td>\n",
       "    </tr>\n",
       "    <tr>\n",
       "      <th>2</th>\n",
       "      <td>7175</td>\n",
       "      <td>2690</td>\n",
       "    </tr>\n",
       "    <tr>\n",
       "      <th>3</th>\n",
       "      <td>7000</td>\n",
       "      <td>2410</td>\n",
       "    </tr>\n",
       "    <tr>\n",
       "      <th>4</th>\n",
       "      <td>7025</td>\n",
       "      <td>2350</td>\n",
       "    </tr>\n",
       "    <tr>\n",
       "      <th>5</th>\n",
       "      <td>7475</td>\n",
       "      <td>2400</td>\n",
       "    </tr>\n",
       "    <tr>\n",
       "      <th>6</th>\n",
       "      <td>7700</td>\n",
       "      <td>2380</td>\n",
       "    </tr>\n",
       "    <tr>\n",
       "      <th>7</th>\n",
       "      <td>7900</td>\n",
       "      <td>2440</td>\n",
       "    </tr>\n",
       "    <tr>\n",
       "      <th>8</th>\n",
       "      <td>8950</td>\n",
       "      <td>2450</td>\n",
       "    </tr>\n",
       "    <tr>\n",
       "      <th>9</th>\n",
       "      <td>8500</td>\n",
       "      <td>2560</td>\n",
       "    </tr>\n",
       "    <tr>\n",
       "      <th>10</th>\n",
       "      <td>7925</td>\n",
       "      <td>2350</td>\n",
       "    </tr>\n",
       "    <tr>\n",
       "      <th>11</th>\n",
       "      <td>7400</td>\n",
       "      <td>2320</td>\n",
       "    </tr>\n",
       "    <tr>\n",
       "      <th>12</th>\n",
       "      <td>7650</td>\n",
       "      <td>2350</td>\n",
       "    </tr>\n",
       "  </tbody>\n",
       "</table>\n",
       "</div>"
      ],
      "text/plain": [
       "    BMRI  BDMN\n",
       "0   6100  2350\n",
       "1   6150  2660\n",
       "2   7175  2690\n",
       "3   7000  2410\n",
       "4   7025  2350\n",
       "5   7475  2400\n",
       "6   7700  2380\n",
       "7   7900  2440\n",
       "8   8950  2450\n",
       "9   8500  2560\n",
       "10  7925  2350\n",
       "11  7400  2320\n",
       "12  7650  2350"
      ]
     },
     "metadata": {},
     "output_type": "display_data"
    }
   ],
   "source": [
    "data = BMRI.join(BDMN)\n",
    "display(data)"
   ]
  },
  {
   "cell_type": "code",
   "execution_count": 14,
   "id": "7bda4ec8",
   "metadata": {
    "execution": {
     "iopub.execute_input": "2022-07-05T09:19:51.408944Z",
     "iopub.status.busy": "2022-07-05T09:19:51.408283Z",
     "iopub.status.idle": "2022-07-05T09:19:51.414402Z",
     "shell.execute_reply": "2022-07-05T09:19:51.412940Z"
    },
    "papermill": {
     "duration": 0.019342,
     "end_time": "2022-07-05T09:19:51.416815",
     "exception": false,
     "start_time": "2022-07-05T09:19:51.397473",
     "status": "completed"
    },
    "tags": []
   },
   "outputs": [
    {
     "name": "stdout",
     "output_type": "stream",
     "text": [
      "(13, 2)\n"
     ]
    }
   ],
   "source": [
    "print(data.shape)"
   ]
  },
  {
   "cell_type": "code",
   "execution_count": 15,
   "id": "f1567b58",
   "metadata": {
    "execution": {
     "iopub.execute_input": "2022-07-05T09:19:51.436577Z",
     "iopub.status.busy": "2022-07-05T09:19:51.436160Z",
     "iopub.status.idle": "2022-07-05T09:19:51.456736Z",
     "shell.execute_reply": "2022-07-05T09:19:51.455818Z"
    },
    "papermill": {
     "duration": 0.032862,
     "end_time": "2022-07-05T09:19:51.458801",
     "exception": false,
     "start_time": "2022-07-05T09:19:51.425939",
     "status": "completed"
    },
    "tags": []
   },
   "outputs": [
    {
     "data": {
      "text/html": [
       "<div>\n",
       "<style scoped>\n",
       "    .dataframe tbody tr th:only-of-type {\n",
       "        vertical-align: middle;\n",
       "    }\n",
       "\n",
       "    .dataframe tbody tr th {\n",
       "        vertical-align: top;\n",
       "    }\n",
       "\n",
       "    .dataframe thead th {\n",
       "        text-align: right;\n",
       "    }\n",
       "</style>\n",
       "<table border=\"1\" class=\"dataframe\">\n",
       "  <thead>\n",
       "    <tr style=\"text-align: right;\">\n",
       "      <th></th>\n",
       "      <th>BMRI</th>\n",
       "      <th>BDMN</th>\n",
       "    </tr>\n",
       "  </thead>\n",
       "  <tbody>\n",
       "    <tr>\n",
       "      <th>count</th>\n",
       "      <td>13.000000</td>\n",
       "      <td>13.000000</td>\n",
       "    </tr>\n",
       "    <tr>\n",
       "      <th>mean</th>\n",
       "      <td>7457.692308</td>\n",
       "      <td>2439.230769</td>\n",
       "    </tr>\n",
       "    <tr>\n",
       "      <th>std</th>\n",
       "      <td>809.152374</td>\n",
       "      <td>121.892134</td>\n",
       "    </tr>\n",
       "    <tr>\n",
       "      <th>min</th>\n",
       "      <td>6100.000000</td>\n",
       "      <td>2320.000000</td>\n",
       "    </tr>\n",
       "    <tr>\n",
       "      <th>25%</th>\n",
       "      <td>7025.000000</td>\n",
       "      <td>2350.000000</td>\n",
       "    </tr>\n",
       "    <tr>\n",
       "      <th>50%</th>\n",
       "      <td>7475.000000</td>\n",
       "      <td>2400.000000</td>\n",
       "    </tr>\n",
       "    <tr>\n",
       "      <th>75%</th>\n",
       "      <td>7900.000000</td>\n",
       "      <td>2450.000000</td>\n",
       "    </tr>\n",
       "    <tr>\n",
       "      <th>max</th>\n",
       "      <td>8950.000000</td>\n",
       "      <td>2690.000000</td>\n",
       "    </tr>\n",
       "  </tbody>\n",
       "</table>\n",
       "</div>"
      ],
      "text/plain": [
       "              BMRI         BDMN\n",
       "count    13.000000    13.000000\n",
       "mean   7457.692308  2439.230769\n",
       "std     809.152374   121.892134\n",
       "min    6100.000000  2320.000000\n",
       "25%    7025.000000  2350.000000\n",
       "50%    7475.000000  2400.000000\n",
       "75%    7900.000000  2450.000000\n",
       "max    8950.000000  2690.000000"
      ]
     },
     "execution_count": 15,
     "metadata": {},
     "output_type": "execute_result"
    }
   ],
   "source": [
    "data.describe()"
   ]
  },
  {
   "cell_type": "markdown",
   "id": "7823af73",
   "metadata": {
    "papermill": {
     "duration": 0.009077,
     "end_time": "2022-07-05T09:19:51.477283",
     "exception": false,
     "start_time": "2022-07-05T09:19:51.468206",
     "status": "completed"
    },
    "tags": []
   },
   "source": [
    "# **Linear Regression**\n",
    "Constanta and Coefficient"
   ]
  },
  {
   "cell_type": "code",
   "execution_count": 16,
   "id": "113af709",
   "metadata": {
    "execution": {
     "iopub.execute_input": "2022-07-05T09:19:51.497625Z",
     "iopub.status.busy": "2022-07-05T09:19:51.496883Z",
     "iopub.status.idle": "2022-07-05T09:19:51.502039Z",
     "shell.execute_reply": "2022-07-05T09:19:51.501238Z"
    },
    "papermill": {
     "duration": 0.01762,
     "end_time": "2022-07-05T09:19:51.504140",
     "exception": false,
     "start_time": "2022-07-05T09:19:51.486520",
     "status": "completed"
    },
    "tags": []
   },
   "outputs": [],
   "source": [
    "X = data['BDMN'].values\n",
    "Y = data['BMRI'].values"
   ]
  },
  {
   "cell_type": "code",
   "execution_count": 17,
   "id": "a1ec0c05",
   "metadata": {
    "execution": {
     "iopub.execute_input": "2022-07-05T09:19:51.525287Z",
     "iopub.status.busy": "2022-07-05T09:19:51.524199Z",
     "iopub.status.idle": "2022-07-05T09:19:51.532770Z",
     "shell.execute_reply": "2022-07-05T09:19:51.531212Z"
    },
    "papermill": {
     "duration": 0.021644,
     "end_time": "2022-07-05T09:19:51.535315",
     "exception": false,
     "start_time": "2022-07-05T09:19:51.513671",
     "status": "completed"
    },
    "tags": []
   },
   "outputs": [
    {
     "name": "stdout",
     "output_type": "stream",
     "text": [
      "-0.6235438778151693 8978.659720424539\n"
     ]
    }
   ],
   "source": [
    "#Mean X and Y\n",
    "mean_x = np.mean(X)\n",
    "mean_y = np.mean(Y)\n",
    "\n",
    "#Total number of values\n",
    "m = len(X)\n",
    "\n",
    "#using the formula to calculate b1 and b2\n",
    "numer = 0\n",
    "denom = 0\n",
    "for i in range(m):\n",
    "    numer += (X[i] - mean_x) * (Y[i]- mean_y)\n",
    "    denom += (X[i] - mean_x) ** 2\n",
    "b1 = numer/denom\n",
    "b0 = mean_y - (b1 * mean_x)\n",
    "\n",
    "#Print coefficients\n",
    "print(b1,b0)"
   ]
  },
  {
   "cell_type": "code",
   "execution_count": 18,
   "id": "e9d8e0ab",
   "metadata": {
    "execution": {
     "iopub.execute_input": "2022-07-05T09:19:51.555692Z",
     "iopub.status.busy": "2022-07-05T09:19:51.554794Z",
     "iopub.status.idle": "2022-07-05T09:19:51.561306Z",
     "shell.execute_reply": "2022-07-05T09:19:51.560591Z"
    },
    "papermill": {
     "duration": 0.018716,
     "end_time": "2022-07-05T09:19:51.563282",
     "exception": false,
     "start_time": "2022-07-05T09:19:51.544566",
     "status": "completed"
    },
    "tags": []
   },
   "outputs": [],
   "source": [
    "%matplotlib inline\n",
    "import matplotlib.pyplot as plt\n",
    "plt.rcParams['figure.figsize'] = (20.0, 10.0)"
   ]
  },
  {
   "cell_type": "code",
   "execution_count": 19,
   "id": "f42e914c",
   "metadata": {
    "execution": {
     "iopub.execute_input": "2022-07-05T09:19:51.583501Z",
     "iopub.status.busy": "2022-07-05T09:19:51.582828Z",
     "iopub.status.idle": "2022-07-05T09:19:51.876845Z",
     "shell.execute_reply": "2022-07-05T09:19:51.875988Z"
    },
    "papermill": {
     "duration": 0.30676,
     "end_time": "2022-07-05T09:19:51.879129",
     "exception": false,
     "start_time": "2022-07-05T09:19:51.572369",
     "status": "completed"
    },
    "tags": []
   },
   "outputs": [
    {
     "data": {
      "image/png": "[encoded data removed]",
      "text/plain": [
       "<Figure size 1440x720 with 1 Axes>"
      ]
     },
     "metadata": {
      "needs_background": "light"
     },
     "output_type": "display_data"
    }
   ],
   "source": [
    "#Plotting values and regression line\n",
    "max_x = np.max(X) + 100\n",
    "min_x = np.min(X) - 100\n",
    "\n",
    "#Calculating line values x and y\n",
    "x = np.linspace(min_x, max_x, 1000)\n",
    "y = b0 + b1 * x\n",
    "\n",
    "#Ploting line\n",
    "plt.plot(x,y, color='#58b970', label = 'Regression Line')\n",
    "\n",
    "#PLoting Scatter Points\n",
    "plt.scatter(X,Y, c='#ef5423', label='Scatter PLot')\n",
    "\n",
    "plt.xlabel('BDMN')\n",
    "plt.ylabel('BMRI')\n",
    "plt.legend()\n",
    "plt.show()"
   ]
  },
  {
   "cell_type": "code",
   "execution_count": 20,
   "id": "e9596d5a",
   "metadata": {
    "execution": {
     "iopub.execute_input": "2022-07-05T09:19:51.901106Z",
     "iopub.status.busy": "2022-07-05T09:19:51.900509Z",
     "iopub.status.idle": "2022-07-05T09:19:52.157871Z",
     "shell.execute_reply": "2022-07-05T09:19:52.157089Z"
    },
    "papermill": {
     "duration": 0.270508,
     "end_time": "2022-07-05T09:19:52.160103",
     "exception": false,
     "start_time": "2022-07-05T09:19:51.889595",
     "status": "completed"
    },
    "tags": []
   },
   "outputs": [
    {
     "data": {
      "image/png": "[encoded data removed]",
      "text/plain": [
       "<Figure size 1440x720 with 1 Axes>"
      ]
     },
     "metadata": {
      "needs_background": "light"
     },
     "output_type": "display_data"
    }
   ],
   "source": [
    "data.plot(x='BDMN', y='BMRI', style='o')\n",
    "plt.title('BDMN and BMRI Precentage')\n",
    "plt.xlabel('BDMN')\n",
    "plt.ylabel('BMRI')\n",
    "plt.show()"
   ]
  },
  {
   "cell_type": "markdown",
   "id": "cda31fb0",
   "metadata": {
    "papermill": {
     "duration": 0.009865,
     "end_time": "2022-07-05T09:19:52.180148",
     "exception": false,
     "start_time": "2022-07-05T09:19:52.170283",
     "status": "completed"
    },
    "tags": []
   },
   "source": [
    "# **R Squared**"
   ]
  },
  {
   "cell_type": "code",
   "execution_count": 21,
   "id": "575dcce8",
   "metadata": {
    "execution": {
     "iopub.execute_input": "2022-07-05T09:19:52.202489Z",
     "iopub.status.busy": "2022-07-05T09:19:52.202059Z",
     "iopub.status.idle": "2022-07-05T09:19:52.208176Z",
     "shell.execute_reply": "2022-07-05T09:19:52.207455Z"
    },
    "papermill": {
     "duration": 0.020498,
     "end_time": "2022-07-05T09:19:52.210681",
     "exception": false,
     "start_time": "2022-07-05T09:19:52.190183",
     "status": "completed"
    },
    "tags": []
   },
   "outputs": [
    {
     "name": "stdout",
     "output_type": "stream",
     "text": [
      "0.008823172580221916\n"
     ]
    }
   ],
   "source": [
    "ss_t = 0\n",
    "ss_r = 0\n",
    "for i in range(m):\n",
    "    y_pred = b0 + b1 * X[i]\n",
    "    ss_t += (Y[i] - mean_y) ** 2\n",
    "    ss_r += (Y[i] - y_pred) ** 2\n",
    "r2 = 1 - (ss_r/ss_t)\n",
    "print(r2)"
   ]
  }
 ],
 "metadata": {
  "kernelspec": {
   "display_name": "Python 3",
   "language": "python",
   "name": "python3"
  },
  "language_info": {
   "codemirror_mode": {
    "name": "ipython",
    "version": 3
   },
   "file_extension": ".py",
   "mimetype": "text/x-python",
   "name": "python",
   "nbconvert_exporter": "python",
   "pygments_lexer": "ipython3",
   "version": "3.7.12"
  },
  "papermill": {
   "default_parameters": {},
   "duration": 12.517431,
   "end_time": "2022-07-05T09:19:52.941883",
   "environment_variables": {},
   "exception": null,
   "input_path": "__notebook__.ipynb",
   "output_path": "__notebook__.ipynb",
   "parameters": {},
   "start_time": "2022-07-05T09:19:40.424452",
   "version": "2.3.4"
  }
 },
 "nbformat": 4,
 "nbformat_minor": 5
}
