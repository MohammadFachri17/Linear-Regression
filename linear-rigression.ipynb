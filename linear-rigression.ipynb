{
 "cells": [
  {
   "cell_type": "code",
   "execution_count": 1,
   "id": "b453494d",
   "metadata": {
    "_cell_guid": "b1076dfc-b9ad-4769-8c92-a6c4dae69d19",
    "_uuid": "8f2839f25d086af736a60e9eeb907d3b93b6e0e5",
    "execution": {
     "iopub.execute_input": "2022-07-05T08:58:06.162151Z",
     "iopub.status.busy": "2022-07-05T08:58:06.161508Z",
     "iopub.status.idle": "2022-07-05T08:58:06.181378Z",
     "shell.execute_reply": "2022-07-05T08:58:06.180529Z"
    },
    "papermill": {
     "duration": 0.031094,
     "end_time": "2022-07-05T08:58:06.183803",
     "exception": false,
     "start_time": "2022-07-05T08:58:06.152709",
     "status": "completed"
    },
    "tags": []
   },
   "outputs": [
    {
     "name": "stdout",
     "output_type": "stream",
     "text": [
      "/kaggle/input/linear-rigerassion/EXCL.JK2022.csv\n",
      "/kaggle/input/linear-rigerassion/ISAT.JK2022.csv\n"
     ]
    }
   ],
   "source": [
    "# This Python 3 environment comes with many helpful analytics libraries installed\n",
    "# It is defined by the kaggle/python Docker image: https://github.com/kaggle/docker-python\n",
    "# For example, here's several helpful packages to load\n",
    "\n",
    "import numpy as np # linear algebra\n",
    "import pandas as pd # data processing, CSV file I/O (e.g. pd.read_csv)\n",
    "\n",
    "# Input data files are available in the read-only \"../input/\" directory\n",
    "# For example, running this (by clicking run or pressing Shift+Enter) will list all files under the input directory\n",
    "\n",
    "import os\n",
    "for dirname, _, filenames in os.walk('/kaggle/input'):\n",
    "    for filename in filenames:\n",
    "        print(os.path.join(dirname, filename))\n",
    "\n",
    "# You can write up to 20GB to the current directory (/kaggle/working/) that gets preserved as output when you create a version using \"Save & Run All\" \n",
    "# You can also write temporary files to /kaggle/temp/, but they won't be saved outside of the current session"
   ]
  },
  {
   "cell_type": "code",
   "execution_count": 2,
   "id": "461f7e1d",
   "metadata": {
    "execution": {
     "iopub.execute_input": "2022-07-05T08:58:06.197344Z",
     "iopub.status.busy": "2022-07-05T08:58:06.196524Z",
     "iopub.status.idle": "2022-07-05T08:58:07.242239Z",
     "shell.execute_reply": "2022-07-05T08:58:07.241131Z"
    },
    "papermill": {
     "duration": 1.055492,
     "end_time": "2022-07-05T08:58:07.245285",
     "exception": false,
     "start_time": "2022-07-05T08:58:06.189793",
     "status": "completed"
    },
    "tags": []
   },
   "outputs": [],
   "source": [
    "import numpy as np\n",
    "import pandas as pd\n",
    "import seaborn as sns"
   ]
  },
  {
   "cell_type": "markdown",
   "id": "8071707e",
   "metadata": {
    "papermill": {
     "duration": 0.005103,
     "end_time": "2022-07-05T08:58:07.255919",
     "exception": false,
     "start_time": "2022-07-05T08:58:07.250816",
     "status": "completed"
    },
    "tags": []
   },
   "source": [
    "# **EXCL DATA LOAD**"
   ]
  },
  {
   "cell_type": "code",
   "execution_count": 3,
   "id": "7e51f5bd",
   "metadata": {
    "execution": {
     "iopub.execute_input": "2022-07-05T08:58:07.268030Z",
     "iopub.status.busy": "2022-07-05T08:58:07.267625Z",
     "iopub.status.idle": "2022-07-05T08:58:07.301151Z",
     "shell.execute_reply": "2022-07-05T08:58:07.299916Z"
    },
    "papermill": {
     "duration": 0.043166,
     "end_time": "2022-07-05T08:58:07.304338",
     "exception": false,
     "start_time": "2022-07-05T08:58:07.261172",
     "status": "completed"
    },
    "tags": []
   },
   "outputs": [
    {
     "name": "stdout",
     "output_type": "stream",
     "text": [
      "<class 'pandas.core.frame.DataFrame'>\n",
      "RangeIndex: 13 entries, 0 to 12\n",
      "Data columns (total 7 columns):\n",
      " #   Column     Non-Null Count  Dtype  \n",
      "---  ------     --------------  -----  \n",
      " 0   Date       13 non-null     object \n",
      " 1   Open       13 non-null     int64  \n",
      " 2   High       13 non-null     int64  \n",
      " 3   Low        13 non-null     int64  \n",
      " 4   Close      13 non-null     int64  \n",
      " 5   Adj Close  13 non-null     float64\n",
      " 6   Volume     13 non-null     int64  \n",
      "dtypes: float64(1), int64(5), object(1)\n",
      "memory usage: 856.0+ bytes\n"
     ]
    }
   ],
   "source": [
    "EXCL = pd.read_csv('../input/linear-rigerassion/EXCL.JK2022.csv')\n",
    "EXCL.info()"
   ]
  },
  {
   "cell_type": "code",
   "execution_count": 4,
   "id": "357d0789",
   "metadata": {
    "execution": {
     "iopub.execute_input": "2022-07-05T08:58:07.318641Z",
     "iopub.status.busy": "2022-07-05T08:58:07.317894Z",
     "iopub.status.idle": "2022-07-05T08:58:07.336680Z",
     "shell.execute_reply": "2022-07-05T08:58:07.335101Z"
    },
    "papermill": {
     "duration": 0.028048,
     "end_time": "2022-07-05T08:58:07.339242",
     "exception": false,
     "start_time": "2022-07-05T08:58:07.311194",
     "status": "completed"
    },
    "tags": []
   },
   "outputs": [
    {
     "data": {
      "text/html": [
       "<div>\n",
       "<style scoped>\n",
       "    .dataframe tbody tr th:only-of-type {\n",
       "        vertical-align: middle;\n",
       "    }\n",
       "\n",
       "    .dataframe tbody tr th {\n",
       "        vertical-align: top;\n",
       "    }\n",
       "\n",
       "    .dataframe thead th {\n",
       "        text-align: right;\n",
       "    }\n",
       "</style>\n",
       "<table border=\"1\" class=\"dataframe\">\n",
       "  <thead>\n",
       "    <tr style=\"text-align: right;\">\n",
       "      <th></th>\n",
       "      <th>Date</th>\n",
       "      <th>Open</th>\n",
       "      <th>High</th>\n",
       "      <th>Low</th>\n",
       "      <th>Close</th>\n",
       "      <th>Adj Close</th>\n",
       "      <th>Volume</th>\n",
       "    </tr>\n",
       "  </thead>\n",
       "  <tbody>\n",
       "    <tr>\n",
       "      <th>0</th>\n",
       "      <td>7/1/2021</td>\n",
       "      <td>2670</td>\n",
       "      <td>2720</td>\n",
       "      <td>2360</td>\n",
       "      <td>2690</td>\n",
       "      <td>2644.116943</td>\n",
       "      <td>575062700</td>\n",
       "    </tr>\n",
       "    <tr>\n",
       "      <th>1</th>\n",
       "      <td>8/1/2021</td>\n",
       "      <td>2700</td>\n",
       "      <td>2770</td>\n",
       "      <td>2500</td>\n",
       "      <td>2670</td>\n",
       "      <td>2624.458008</td>\n",
       "      <td>414664500</td>\n",
       "    </tr>\n",
       "    <tr>\n",
       "      <th>2</th>\n",
       "      <td>9/1/2021</td>\n",
       "      <td>2680</td>\n",
       "      <td>3080</td>\n",
       "      <td>2550</td>\n",
       "      <td>3040</td>\n",
       "      <td>2988.146973</td>\n",
       "      <td>538885000</td>\n",
       "    </tr>\n",
       "    <tr>\n",
       "      <th>3</th>\n",
       "      <td>10/1/2021</td>\n",
       "      <td>3030</td>\n",
       "      <td>3270</td>\n",
       "      <td>2820</td>\n",
       "      <td>3080</td>\n",
       "      <td>3027.464844</td>\n",
       "      <td>633864900</td>\n",
       "    </tr>\n",
       "    <tr>\n",
       "      <th>4</th>\n",
       "      <td>11/1/2021</td>\n",
       "      <td>3080</td>\n",
       "      <td>3160</td>\n",
       "      <td>2860</td>\n",
       "      <td>3070</td>\n",
       "      <td>3017.635254</td>\n",
       "      <td>434488600</td>\n",
       "    </tr>\n",
       "    <tr>\n",
       "      <th>5</th>\n",
       "      <td>12/1/2021</td>\n",
       "      <td>3070</td>\n",
       "      <td>3240</td>\n",
       "      <td>3020</td>\n",
       "      <td>3170</td>\n",
       "      <td>3115.929688</td>\n",
       "      <td>286257100</td>\n",
       "    </tr>\n",
       "    <tr>\n",
       "      <th>6</th>\n",
       "      <td>1/1/2022</td>\n",
       "      <td>3180</td>\n",
       "      <td>3370</td>\n",
       "      <td>2920</td>\n",
       "      <td>3320</td>\n",
       "      <td>3263.371094</td>\n",
       "      <td>230045000</td>\n",
       "    </tr>\n",
       "    <tr>\n",
       "      <th>7</th>\n",
       "      <td>2/1/2022</td>\n",
       "      <td>3320</td>\n",
       "      <td>3350</td>\n",
       "      <td>2760</td>\n",
       "      <td>2860</td>\n",
       "      <td>2811.217285</td>\n",
       "      <td>285758200</td>\n",
       "    </tr>\n",
       "    <tr>\n",
       "      <th>8</th>\n",
       "      <td>3/1/2022</td>\n",
       "      <td>2900</td>\n",
       "      <td>2930</td>\n",
       "      <td>2530</td>\n",
       "      <td>2650</td>\n",
       "      <td>2604.799316</td>\n",
       "      <td>471512100</td>\n",
       "    </tr>\n",
       "    <tr>\n",
       "      <th>9</th>\n",
       "      <td>4/1/2022</td>\n",
       "      <td>2640</td>\n",
       "      <td>3380</td>\n",
       "      <td>2550</td>\n",
       "      <td>3190</td>\n",
       "      <td>3135.588623</td>\n",
       "      <td>624070500</td>\n",
       "    </tr>\n",
       "    <tr>\n",
       "      <th>10</th>\n",
       "      <td>5/1/2022</td>\n",
       "      <td>3190</td>\n",
       "      <td>3190</td>\n",
       "      <td>2570</td>\n",
       "      <td>2640</td>\n",
       "      <td>2594.969727</td>\n",
       "      <td>342472900</td>\n",
       "    </tr>\n",
       "    <tr>\n",
       "      <th>11</th>\n",
       "      <td>6/1/2022</td>\n",
       "      <td>2640</td>\n",
       "      <td>2740</td>\n",
       "      <td>2230</td>\n",
       "      <td>2680</td>\n",
       "      <td>2680.000000</td>\n",
       "      <td>607580500</td>\n",
       "    </tr>\n",
       "    <tr>\n",
       "      <th>12</th>\n",
       "      <td>6/28/2022</td>\n",
       "      <td>2690</td>\n",
       "      <td>2700</td>\n",
       "      <td>2610</td>\n",
       "      <td>2630</td>\n",
       "      <td>2630.000000</td>\n",
       "      <td>6796900</td>\n",
       "    </tr>\n",
       "  </tbody>\n",
       "</table>\n",
       "</div>"
      ],
      "text/plain": [
       "         Date  Open  High   Low  Close    Adj Close     Volume\n",
       "0    7/1/2021  2670  2720  2360   2690  2644.116943  575062700\n",
       "1    8/1/2021  2700  2770  2500   2670  2624.458008  414664500\n",
       "2    9/1/2021  2680  3080  2550   3040  2988.146973  538885000\n",
       "3   10/1/2021  3030  3270  2820   3080  3027.464844  633864900\n",
       "4   11/1/2021  3080  3160  2860   3070  3017.635254  434488600\n",
       "5   12/1/2021  3070  3240  3020   3170  3115.929688  286257100\n",
       "6    1/1/2022  3180  3370  2920   3320  3263.371094  230045000\n",
       "7    2/1/2022  3320  3350  2760   2860  2811.217285  285758200\n",
       "8    3/1/2022  2900  2930  2530   2650  2604.799316  471512100\n",
       "9    4/1/2022  2640  3380  2550   3190  3135.588623  624070500\n",
       "10   5/1/2022  3190  3190  2570   2640  2594.969727  342472900\n",
       "11   6/1/2022  2640  2740  2230   2680  2680.000000  607580500\n",
       "12  6/28/2022  2690  2700  2610   2630  2630.000000    6796900"
      ]
     },
     "metadata": {},
     "output_type": "display_data"
    }
   ],
   "source": [
    "display(EXCL)"
   ]
  },
  {
   "cell_type": "code",
   "execution_count": 5,
   "id": "5e19b992",
   "metadata": {
    "execution": {
     "iopub.execute_input": "2022-07-05T08:58:07.354447Z",
     "iopub.status.busy": "2022-07-05T08:58:07.353141Z",
     "iopub.status.idle": "2022-07-05T08:58:07.359456Z",
     "shell.execute_reply": "2022-07-05T08:58:07.358273Z"
    },
    "papermill": {
     "duration": 0.016361,
     "end_time": "2022-07-05T08:58:07.361788",
     "exception": false,
     "start_time": "2022-07-05T08:58:07.345427",
     "status": "completed"
    },
    "tags": []
   },
   "outputs": [
    {
     "name": "stdout",
     "output_type": "stream",
     "text": [
      "(13, 7)\n"
     ]
    }
   ],
   "source": [
    "print(EXCL.shape)"
   ]
  },
  {
   "cell_type": "code",
   "execution_count": 6,
   "id": "cf96da12",
   "metadata": {
    "execution": {
     "iopub.execute_input": "2022-07-05T08:58:07.375121Z",
     "iopub.status.busy": "2022-07-05T08:58:07.374377Z",
     "iopub.status.idle": "2022-07-05T08:58:07.386481Z",
     "shell.execute_reply": "2022-07-05T08:58:07.385157Z"
    },
    "papermill": {
     "duration": 0.021159,
     "end_time": "2022-07-05T08:58:07.388590",
     "exception": false,
     "start_time": "2022-07-05T08:58:07.367431",
     "status": "completed"
    },
    "tags": []
   },
   "outputs": [
    {
     "name": "stdout",
     "output_type": "stream",
     "text": [
      "<class 'pandas.core.frame.DataFrame'>\n",
      "RangeIndex: 13 entries, 0 to 12\n",
      "Data columns (total 7 columns):\n",
      " #   Column     Non-Null Count  Dtype  \n",
      "---  ------     --------------  -----  \n",
      " 0   Date       13 non-null     object \n",
      " 1   Open       13 non-null     int64  \n",
      " 2   High       13 non-null     int64  \n",
      " 3   Low        13 non-null     int64  \n",
      " 4   Close      13 non-null     int64  \n",
      " 5   Adj Close  13 non-null     float64\n",
      " 6   Volume     13 non-null     int64  \n",
      "dtypes: float64(1), int64(5), object(1)\n",
      "memory usage: 856.0+ bytes\n",
      "None\n"
     ]
    }
   ],
   "source": [
    "print(EXCL.info()) "
   ]
  },
  {
   "cell_type": "markdown",
   "id": "db4ff168",
   "metadata": {
    "papermill": {
     "duration": 0.005496,
     "end_time": "2022-07-05T08:58:07.399786",
     "exception": false,
     "start_time": "2022-07-05T08:58:07.394290",
     "status": "completed"
    },
    "tags": []
   },
   "source": [
    "# **ISAT DATA LOAD**"
   ]
  },
  {
   "cell_type": "code",
   "execution_count": 7,
   "id": "4bd5cc24",
   "metadata": {
    "execution": {
     "iopub.execute_input": "2022-07-05T08:58:07.413000Z",
     "iopub.status.busy": "2022-07-05T08:58:07.412325Z",
     "iopub.status.idle": "2022-07-05T08:58:07.428640Z",
     "shell.execute_reply": "2022-07-05T08:58:07.427337Z"
    },
    "papermill": {
     "duration": 0.025506,
     "end_time": "2022-07-05T08:58:07.430862",
     "exception": false,
     "start_time": "2022-07-05T08:58:07.405356",
     "status": "completed"
    },
    "tags": []
   },
   "outputs": [
    {
     "name": "stdout",
     "output_type": "stream",
     "text": [
      "<class 'pandas.core.frame.DataFrame'>\n",
      "RangeIndex: 12 entries, 0 to 11\n",
      "Data columns (total 7 columns):\n",
      " #   Column     Non-Null Count  Dtype  \n",
      "---  ------     --------------  -----  \n",
      " 0   Date       12 non-null     object \n",
      " 1   Open       12 non-null     int64  \n",
      " 2   High       12 non-null     int64  \n",
      " 3   Low        12 non-null     int64  \n",
      " 4   Close      12 non-null     int64  \n",
      " 5   Adj Close  12 non-null     float64\n",
      " 6   Volume     12 non-null     int64  \n",
      "dtypes: float64(1), int64(5), object(1)\n",
      "memory usage: 800.0+ bytes\n"
     ]
    }
   ],
   "source": [
    "ISAT = pd.read_csv('../input/linear-rigerassion/ISAT.JK2022.csv')\n",
    "ISAT.info()"
   ]
  },
  {
   "cell_type": "code",
   "execution_count": 8,
   "id": "2b18d39d",
   "metadata": {
    "execution": {
     "iopub.execute_input": "2022-07-05T08:58:07.444460Z",
     "iopub.status.busy": "2022-07-05T08:58:07.443816Z",
     "iopub.status.idle": "2022-07-05T08:58:07.456585Z",
     "shell.execute_reply": "2022-07-05T08:58:07.455358Z"
    },
    "papermill": {
     "duration": 0.021984,
     "end_time": "2022-07-05T08:58:07.458690",
     "exception": false,
     "start_time": "2022-07-05T08:58:07.436706",
     "status": "completed"
    },
    "tags": []
   },
   "outputs": [
    {
     "data": {
      "text/html": [
       "<div>\n",
       "<style scoped>\n",
       "    .dataframe tbody tr th:only-of-type {\n",
       "        vertical-align: middle;\n",
       "    }\n",
       "\n",
       "    .dataframe tbody tr th {\n",
       "        vertical-align: top;\n",
       "    }\n",
       "\n",
       "    .dataframe thead th {\n",
       "        text-align: right;\n",
       "    }\n",
       "</style>\n",
       "<table border=\"1\" class=\"dataframe\">\n",
       "  <thead>\n",
       "    <tr style=\"text-align: right;\">\n",
       "      <th></th>\n",
       "      <th>Date</th>\n",
       "      <th>Open</th>\n",
       "      <th>High</th>\n",
       "      <th>Low</th>\n",
       "      <th>Close</th>\n",
       "      <th>Adj Close</th>\n",
       "      <th>Volume</th>\n",
       "    </tr>\n",
       "  </thead>\n",
       "  <tbody>\n",
       "    <tr>\n",
       "      <th>0</th>\n",
       "      <td>7/1/2021</td>\n",
       "      <td>2670</td>\n",
       "      <td>2720</td>\n",
       "      <td>2360</td>\n",
       "      <td>2690</td>\n",
       "      <td>2644.116943</td>\n",
       "      <td>575062700</td>\n",
       "    </tr>\n",
       "    <tr>\n",
       "      <th>1</th>\n",
       "      <td>8/1/2021</td>\n",
       "      <td>2700</td>\n",
       "      <td>2770</td>\n",
       "      <td>2500</td>\n",
       "      <td>2670</td>\n",
       "      <td>2624.458008</td>\n",
       "      <td>414664500</td>\n",
       "    </tr>\n",
       "    <tr>\n",
       "      <th>2</th>\n",
       "      <td>9/1/2021</td>\n",
       "      <td>2680</td>\n",
       "      <td>3080</td>\n",
       "      <td>2550</td>\n",
       "      <td>3040</td>\n",
       "      <td>2988.146973</td>\n",
       "      <td>538885000</td>\n",
       "    </tr>\n",
       "    <tr>\n",
       "      <th>3</th>\n",
       "      <td>10/1/2021</td>\n",
       "      <td>3030</td>\n",
       "      <td>3270</td>\n",
       "      <td>2820</td>\n",
       "      <td>3080</td>\n",
       "      <td>3027.464844</td>\n",
       "      <td>633864900</td>\n",
       "    </tr>\n",
       "    <tr>\n",
       "      <th>4</th>\n",
       "      <td>11/1/2021</td>\n",
       "      <td>3080</td>\n",
       "      <td>3160</td>\n",
       "      <td>2860</td>\n",
       "      <td>3070</td>\n",
       "      <td>3017.635254</td>\n",
       "      <td>434488600</td>\n",
       "    </tr>\n",
       "    <tr>\n",
       "      <th>5</th>\n",
       "      <td>12/1/2021</td>\n",
       "      <td>3070</td>\n",
       "      <td>3240</td>\n",
       "      <td>3020</td>\n",
       "      <td>3170</td>\n",
       "      <td>3115.929688</td>\n",
       "      <td>286257100</td>\n",
       "    </tr>\n",
       "    <tr>\n",
       "      <th>6</th>\n",
       "      <td>1/1/2022</td>\n",
       "      <td>3180</td>\n",
       "      <td>3370</td>\n",
       "      <td>2920</td>\n",
       "      <td>3320</td>\n",
       "      <td>3263.371094</td>\n",
       "      <td>230045000</td>\n",
       "    </tr>\n",
       "    <tr>\n",
       "      <th>7</th>\n",
       "      <td>2/1/2022</td>\n",
       "      <td>3320</td>\n",
       "      <td>3350</td>\n",
       "      <td>2760</td>\n",
       "      <td>2860</td>\n",
       "      <td>2811.217285</td>\n",
       "      <td>285758200</td>\n",
       "    </tr>\n",
       "    <tr>\n",
       "      <th>8</th>\n",
       "      <td>3/1/2022</td>\n",
       "      <td>2900</td>\n",
       "      <td>2930</td>\n",
       "      <td>2530</td>\n",
       "      <td>2650</td>\n",
       "      <td>2604.799316</td>\n",
       "      <td>471512100</td>\n",
       "    </tr>\n",
       "    <tr>\n",
       "      <th>9</th>\n",
       "      <td>4/1/2022</td>\n",
       "      <td>2640</td>\n",
       "      <td>3380</td>\n",
       "      <td>2550</td>\n",
       "      <td>3190</td>\n",
       "      <td>3135.588623</td>\n",
       "      <td>624070500</td>\n",
       "    </tr>\n",
       "    <tr>\n",
       "      <th>10</th>\n",
       "      <td>5/1/2022</td>\n",
       "      <td>3190</td>\n",
       "      <td>3190</td>\n",
       "      <td>2570</td>\n",
       "      <td>2640</td>\n",
       "      <td>2594.969727</td>\n",
       "      <td>342472900</td>\n",
       "    </tr>\n",
       "    <tr>\n",
       "      <th>11</th>\n",
       "      <td>6/1/2022</td>\n",
       "      <td>2640</td>\n",
       "      <td>2740</td>\n",
       "      <td>2230</td>\n",
       "      <td>2680</td>\n",
       "      <td>2680.000000</td>\n",
       "      <td>607580500</td>\n",
       "    </tr>\n",
       "    <tr>\n",
       "      <th>12</th>\n",
       "      <td>6/28/2022</td>\n",
       "      <td>2690</td>\n",
       "      <td>2700</td>\n",
       "      <td>2610</td>\n",
       "      <td>2630</td>\n",
       "      <td>2630.000000</td>\n",
       "      <td>6796900</td>\n",
       "    </tr>\n",
       "  </tbody>\n",
       "</table>\n",
       "</div>"
      ],
      "text/plain": [
       "         Date  Open  High   Low  Close    Adj Close     Volume\n",
       "0    7/1/2021  2670  2720  2360   2690  2644.116943  575062700\n",
       "1    8/1/2021  2700  2770  2500   2670  2624.458008  414664500\n",
       "2    9/1/2021  2680  3080  2550   3040  2988.146973  538885000\n",
       "3   10/1/2021  3030  3270  2820   3080  3027.464844  633864900\n",
       "4   11/1/2021  3080  3160  2860   3070  3017.635254  434488600\n",
       "5   12/1/2021  3070  3240  3020   3170  3115.929688  286257100\n",
       "6    1/1/2022  3180  3370  2920   3320  3263.371094  230045000\n",
       "7    2/1/2022  3320  3350  2760   2860  2811.217285  285758200\n",
       "8    3/1/2022  2900  2930  2530   2650  2604.799316  471512100\n",
       "9    4/1/2022  2640  3380  2550   3190  3135.588623  624070500\n",
       "10   5/1/2022  3190  3190  2570   2640  2594.969727  342472900\n",
       "11   6/1/2022  2640  2740  2230   2680  2680.000000  607580500\n",
       "12  6/28/2022  2690  2700  2610   2630  2630.000000    6796900"
      ]
     },
     "metadata": {},
     "output_type": "display_data"
    }
   ],
   "source": [
    "display(EXCL)"
   ]
  },
  {
   "cell_type": "code",
   "execution_count": 9,
   "id": "78bcc173",
   "metadata": {
    "execution": {
     "iopub.execute_input": "2022-07-05T08:58:07.472962Z",
     "iopub.status.busy": "2022-07-05T08:58:07.472354Z",
     "iopub.status.idle": "2022-07-05T08:58:07.478138Z",
     "shell.execute_reply": "2022-07-05T08:58:07.476845Z"
    },
    "papermill": {
     "duration": 0.016058,
     "end_time": "2022-07-05T08:58:07.480897",
     "exception": false,
     "start_time": "2022-07-05T08:58:07.464839",
     "status": "completed"
    },
    "tags": []
   },
   "outputs": [
    {
     "name": "stdout",
     "output_type": "stream",
     "text": [
      "(12, 7)\n"
     ]
    }
   ],
   "source": [
    "print(ISAT.shape)"
   ]
  },
  {
   "cell_type": "code",
   "execution_count": 10,
   "id": "84ccf622",
   "metadata": {
    "execution": {
     "iopub.execute_input": "2022-07-05T08:58:07.495617Z",
     "iopub.status.busy": "2022-07-05T08:58:07.494958Z",
     "iopub.status.idle": "2022-07-05T08:58:07.506999Z",
     "shell.execute_reply": "2022-07-05T08:58:07.505472Z"
    },
    "papermill": {
     "duration": 0.021559,
     "end_time": "2022-07-05T08:58:07.509269",
     "exception": false,
     "start_time": "2022-07-05T08:58:07.487710",
     "status": "completed"
    },
    "tags": []
   },
   "outputs": [
    {
     "name": "stdout",
     "output_type": "stream",
     "text": [
      "<class 'pandas.core.frame.DataFrame'>\n",
      "RangeIndex: 12 entries, 0 to 11\n",
      "Data columns (total 7 columns):\n",
      " #   Column     Non-Null Count  Dtype  \n",
      "---  ------     --------------  -----  \n",
      " 0   Date       12 non-null     object \n",
      " 1   Open       12 non-null     int64  \n",
      " 2   High       12 non-null     int64  \n",
      " 3   Low        12 non-null     int64  \n",
      " 4   Close      12 non-null     int64  \n",
      " 5   Adj Close  12 non-null     float64\n",
      " 6   Volume     12 non-null     int64  \n",
      "dtypes: float64(1), int64(5), object(1)\n",
      "memory usage: 800.0+ bytes\n",
      "None\n"
     ]
    }
   ],
   "source": [
    "print(ISAT.info())"
   ]
  },
  {
   "cell_type": "markdown",
   "id": "df0bee3e",
   "metadata": {
    "papermill": {
     "duration": 0.005649,
     "end_time": "2022-07-05T08:58:07.520976",
     "exception": false,
     "start_time": "2022-07-05T08:58:07.515327",
     "status": "completed"
    },
    "tags": []
   },
   "source": [
    "# **Data Preparation**"
   ]
  },
  {
   "cell_type": "code",
   "execution_count": 11,
   "id": "b102c6bb",
   "metadata": {
    "execution": {
     "iopub.execute_input": "2022-07-05T08:58:07.534921Z",
     "iopub.status.busy": "2022-07-05T08:58:07.534319Z",
     "iopub.status.idle": "2022-07-05T08:58:07.550498Z",
     "shell.execute_reply": "2022-07-05T08:58:07.549342Z"
    },
    "papermill": {
     "duration": 0.025777,
     "end_time": "2022-07-05T08:58:07.552597",
     "exception": false,
     "start_time": "2022-07-05T08:58:07.526820",
     "status": "completed"
    },
    "tags": []
   },
   "outputs": [
    {
     "data": {
      "text/html": [
       "<div>\n",
       "<style scoped>\n",
       "    .dataframe tbody tr th:only-of-type {\n",
       "        vertical-align: middle;\n",
       "    }\n",
       "\n",
       "    .dataframe tbody tr th {\n",
       "        vertical-align: top;\n",
       "    }\n",
       "\n",
       "    .dataframe thead th {\n",
       "        text-align: right;\n",
       "    }\n",
       "</style>\n",
       "<table border=\"1\" class=\"dataframe\">\n",
       "  <thead>\n",
       "    <tr style=\"text-align: right;\">\n",
       "      <th></th>\n",
       "      <th>EXCL</th>\n",
       "    </tr>\n",
       "  </thead>\n",
       "  <tbody>\n",
       "    <tr>\n",
       "      <th>0</th>\n",
       "      <td>2690</td>\n",
       "    </tr>\n",
       "    <tr>\n",
       "      <th>1</th>\n",
       "      <td>2670</td>\n",
       "    </tr>\n",
       "    <tr>\n",
       "      <th>2</th>\n",
       "      <td>3040</td>\n",
       "    </tr>\n",
       "    <tr>\n",
       "      <th>3</th>\n",
       "      <td>3080</td>\n",
       "    </tr>\n",
       "    <tr>\n",
       "      <th>4</th>\n",
       "      <td>3070</td>\n",
       "    </tr>\n",
       "    <tr>\n",
       "      <th>5</th>\n",
       "      <td>3170</td>\n",
       "    </tr>\n",
       "    <tr>\n",
       "      <th>6</th>\n",
       "      <td>3320</td>\n",
       "    </tr>\n",
       "    <tr>\n",
       "      <th>7</th>\n",
       "      <td>2860</td>\n",
       "    </tr>\n",
       "    <tr>\n",
       "      <th>8</th>\n",
       "      <td>2650</td>\n",
       "    </tr>\n",
       "    <tr>\n",
       "      <th>9</th>\n",
       "      <td>3190</td>\n",
       "    </tr>\n",
       "    <tr>\n",
       "      <th>10</th>\n",
       "      <td>2640</td>\n",
       "    </tr>\n",
       "    <tr>\n",
       "      <th>11</th>\n",
       "      <td>2680</td>\n",
       "    </tr>\n",
       "    <tr>\n",
       "      <th>12</th>\n",
       "      <td>2630</td>\n",
       "    </tr>\n",
       "  </tbody>\n",
       "</table>\n",
       "</div>"
      ],
      "text/plain": [
       "    EXCL\n",
       "0   2690\n",
       "1   2670\n",
       "2   3040\n",
       "3   3080\n",
       "4   3070\n",
       "5   3170\n",
       "6   3320\n",
       "7   2860\n",
       "8   2650\n",
       "9   3190\n",
       "10  2640\n",
       "11  2680\n",
       "12  2630"
      ]
     },
     "metadata": {},
     "output_type": "display_data"
    }
   ],
   "source": [
    "EXCL_closing=pd.read_csv('../input/linear-rigerassion/EXCL.JK2022.csv', usecols =['Close'])\n",
    "EXCL = EXCL_closing.rename(columns={'Close': 'EXCL'})\n",
    "display(EXCL)"
   ]
  },
  {
   "cell_type": "code",
   "execution_count": 12,
   "id": "54530a42",
   "metadata": {
    "execution": {
     "iopub.execute_input": "2022-07-05T08:58:07.567648Z",
     "iopub.status.busy": "2022-07-05T08:58:07.566929Z",
     "iopub.status.idle": "2022-07-05T08:58:07.579386Z",
     "shell.execute_reply": "2022-07-05T08:58:07.578330Z"
    },
    "papermill": {
     "duration": 0.022157,
     "end_time": "2022-07-05T08:58:07.581361",
     "exception": false,
     "start_time": "2022-07-05T08:58:07.559204",
     "status": "completed"
    },
    "tags": []
   },
   "outputs": [
    {
     "data": {
      "text/html": [
       "<div>\n",
       "<style scoped>\n",
       "    .dataframe tbody tr th:only-of-type {\n",
       "        vertical-align: middle;\n",
       "    }\n",
       "\n",
       "    .dataframe tbody tr th {\n",
       "        vertical-align: top;\n",
       "    }\n",
       "\n",
       "    .dataframe thead th {\n",
       "        text-align: right;\n",
       "    }\n",
       "</style>\n",
       "<table border=\"1\" class=\"dataframe\">\n",
       "  <thead>\n",
       "    <tr style=\"text-align: right;\">\n",
       "      <th></th>\n",
       "      <th>ISAT</th>\n",
       "    </tr>\n",
       "  </thead>\n",
       "  <tbody>\n",
       "    <tr>\n",
       "      <th>0</th>\n",
       "      <td>5900</td>\n",
       "    </tr>\n",
       "    <tr>\n",
       "      <th>1</th>\n",
       "      <td>6325</td>\n",
       "    </tr>\n",
       "    <tr>\n",
       "      <th>2</th>\n",
       "      <td>6650</td>\n",
       "    </tr>\n",
       "    <tr>\n",
       "      <th>3</th>\n",
       "      <td>6925</td>\n",
       "    </tr>\n",
       "    <tr>\n",
       "      <th>4</th>\n",
       "      <td>8150</td>\n",
       "    </tr>\n",
       "    <tr>\n",
       "      <th>5</th>\n",
       "      <td>6200</td>\n",
       "    </tr>\n",
       "    <tr>\n",
       "      <th>6</th>\n",
       "      <td>5725</td>\n",
       "    </tr>\n",
       "    <tr>\n",
       "      <th>7</th>\n",
       "      <td>5475</td>\n",
       "    </tr>\n",
       "    <tr>\n",
       "      <th>8</th>\n",
       "      <td>5175</td>\n",
       "    </tr>\n",
       "    <tr>\n",
       "      <th>9</th>\n",
       "      <td>7000</td>\n",
       "    </tr>\n",
       "    <tr>\n",
       "      <th>10</th>\n",
       "      <td>5325</td>\n",
       "    </tr>\n",
       "    <tr>\n",
       "      <th>11</th>\n",
       "      <td>6625</td>\n",
       "    </tr>\n",
       "  </tbody>\n",
       "</table>\n",
       "</div>"
      ],
      "text/plain": [
       "    ISAT\n",
       "0   5900\n",
       "1   6325\n",
       "2   6650\n",
       "3   6925\n",
       "4   8150\n",
       "5   6200\n",
       "6   5725\n",
       "7   5475\n",
       "8   5175\n",
       "9   7000\n",
       "10  5325\n",
       "11  6625"
      ]
     },
     "metadata": {},
     "output_type": "display_data"
    }
   ],
   "source": [
    "ISAT_closing=pd.read_csv('../input/linear-rigerassion/ISAT.JK2022.csv', usecols =['Close'])\n",
    "ISAT = ISAT_closing.rename(columns={'Close': 'ISAT'})\n",
    "display(ISAT)"
   ]
  },
  {
   "cell_type": "markdown",
   "id": "6f1b4109",
   "metadata": {
    "papermill": {
     "duration": 0.006219,
     "end_time": "2022-07-05T08:58:07.594587",
     "exception": false,
     "start_time": "2022-07-05T08:58:07.588368",
     "status": "completed"
    },
    "tags": []
   },
   "source": [
    "# **Merging data**"
   ]
  },
  {
   "cell_type": "code",
   "execution_count": 13,
   "id": "54d58183",
   "metadata": {
    "execution": {
     "iopub.execute_input": "2022-07-05T08:58:07.609625Z",
     "iopub.status.busy": "2022-07-05T08:58:07.608975Z",
     "iopub.status.idle": "2022-07-05T08:58:07.626539Z",
     "shell.execute_reply": "2022-07-05T08:58:07.625330Z"
    },
    "papermill": {
     "duration": 0.027503,
     "end_time": "2022-07-05T08:58:07.628585",
     "exception": false,
     "start_time": "2022-07-05T08:58:07.601082",
     "status": "completed"
    },
    "tags": []
   },
   "outputs": [
    {
     "data": {
      "text/html": [
       "<div>\n",
       "<style scoped>\n",
       "    .dataframe tbody tr th:only-of-type {\n",
       "        vertical-align: middle;\n",
       "    }\n",
       "\n",
       "    .dataframe tbody tr th {\n",
       "        vertical-align: top;\n",
       "    }\n",
       "\n",
       "    .dataframe thead th {\n",
       "        text-align: right;\n",
       "    }\n",
       "</style>\n",
       "<table border=\"1\" class=\"dataframe\">\n",
       "  <thead>\n",
       "    <tr style=\"text-align: right;\">\n",
       "      <th></th>\n",
       "      <th>EXCL</th>\n",
       "      <th>ISAT</th>\n",
       "    </tr>\n",
       "  </thead>\n",
       "  <tbody>\n",
       "    <tr>\n",
       "      <th>0</th>\n",
       "      <td>2690</td>\n",
       "      <td>5900.0</td>\n",
       "    </tr>\n",
       "    <tr>\n",
       "      <th>1</th>\n",
       "      <td>2670</td>\n",
       "      <td>6325.0</td>\n",
       "    </tr>\n",
       "    <tr>\n",
       "      <th>2</th>\n",
       "      <td>3040</td>\n",
       "      <td>6650.0</td>\n",
       "    </tr>\n",
       "    <tr>\n",
       "      <th>3</th>\n",
       "      <td>3080</td>\n",
       "      <td>6925.0</td>\n",
       "    </tr>\n",
       "    <tr>\n",
       "      <th>4</th>\n",
       "      <td>3070</td>\n",
       "      <td>8150.0</td>\n",
       "    </tr>\n",
       "    <tr>\n",
       "      <th>5</th>\n",
       "      <td>3170</td>\n",
       "      <td>6200.0</td>\n",
       "    </tr>\n",
       "    <tr>\n",
       "      <th>6</th>\n",
       "      <td>3320</td>\n",
       "      <td>5725.0</td>\n",
       "    </tr>\n",
       "    <tr>\n",
       "      <th>7</th>\n",
       "      <td>2860</td>\n",
       "      <td>5475.0</td>\n",
       "    </tr>\n",
       "    <tr>\n",
       "      <th>8</th>\n",
       "      <td>2650</td>\n",
       "      <td>5175.0</td>\n",
       "    </tr>\n",
       "    <tr>\n",
       "      <th>9</th>\n",
       "      <td>3190</td>\n",
       "      <td>7000.0</td>\n",
       "    </tr>\n",
       "    <tr>\n",
       "      <th>10</th>\n",
       "      <td>2640</td>\n",
       "      <td>5325.0</td>\n",
       "    </tr>\n",
       "    <tr>\n",
       "      <th>11</th>\n",
       "      <td>2680</td>\n",
       "      <td>6625.0</td>\n",
       "    </tr>\n",
       "    <tr>\n",
       "      <th>12</th>\n",
       "      <td>2630</td>\n",
       "      <td>NaN</td>\n",
       "    </tr>\n",
       "  </tbody>\n",
       "</table>\n",
       "</div>"
      ],
      "text/plain": [
       "    EXCL    ISAT\n",
       "0   2690  5900.0\n",
       "1   2670  6325.0\n",
       "2   3040  6650.0\n",
       "3   3080  6925.0\n",
       "4   3070  8150.0\n",
       "5   3170  6200.0\n",
       "6   3320  5725.0\n",
       "7   2860  5475.0\n",
       "8   2650  5175.0\n",
       "9   3190  7000.0\n",
       "10  2640  5325.0\n",
       "11  2680  6625.0\n",
       "12  2630     NaN"
      ]
     },
     "metadata": {},
     "output_type": "display_data"
    }
   ],
   "source": [
    "data = EXCL.join(ISAT)\n",
    "display(data)"
   ]
  },
  {
   "cell_type": "code",
   "execution_count": 14,
   "id": "ece7869f",
   "metadata": {
    "execution": {
     "iopub.execute_input": "2022-07-05T08:58:07.643974Z",
     "iopub.status.busy": "2022-07-05T08:58:07.643373Z",
     "iopub.status.idle": "2022-07-05T08:58:07.648990Z",
     "shell.execute_reply": "2022-07-05T08:58:07.647916Z"
    },
    "papermill": {
     "duration": 0.015459,
     "end_time": "2022-07-05T08:58:07.650892",
     "exception": false,
     "start_time": "2022-07-05T08:58:07.635433",
     "status": "completed"
    },
    "tags": []
   },
   "outputs": [
    {
     "name": "stdout",
     "output_type": "stream",
     "text": [
      "(13, 2)\n"
     ]
    }
   ],
   "source": [
    "print(data.shape)"
   ]
  },
  {
   "cell_type": "code",
   "execution_count": 15,
   "id": "f68ac9c5",
   "metadata": {
    "execution": {
     "iopub.execute_input": "2022-07-05T08:58:07.666287Z",
     "iopub.status.busy": "2022-07-05T08:58:07.665851Z",
     "iopub.status.idle": "2022-07-05T08:58:07.684450Z",
     "shell.execute_reply": "2022-07-05T08:58:07.683531Z"
    },
    "papermill": {
     "duration": 0.028875,
     "end_time": "2022-07-05T08:58:07.686466",
     "exception": false,
     "start_time": "2022-07-05T08:58:07.657591",
     "status": "completed"
    },
    "tags": []
   },
   "outputs": [
    {
     "data": {
      "text/html": [
       "<div>\n",
       "<style scoped>\n",
       "    .dataframe tbody tr th:only-of-type {\n",
       "        vertical-align: middle;\n",
       "    }\n",
       "\n",
       "    .dataframe tbody tr th {\n",
       "        vertical-align: top;\n",
       "    }\n",
       "\n",
       "    .dataframe thead th {\n",
       "        text-align: right;\n",
       "    }\n",
       "</style>\n",
       "<table border=\"1\" class=\"dataframe\">\n",
       "  <thead>\n",
       "    <tr style=\"text-align: right;\">\n",
       "      <th></th>\n",
       "      <th>EXCL</th>\n",
       "      <th>ISAT</th>\n",
       "    </tr>\n",
       "  </thead>\n",
       "  <tbody>\n",
       "    <tr>\n",
       "      <th>count</th>\n",
       "      <td>13.000000</td>\n",
       "      <td>12.000000</td>\n",
       "    </tr>\n",
       "    <tr>\n",
       "      <th>mean</th>\n",
       "      <td>2899.230769</td>\n",
       "      <td>6289.583333</td>\n",
       "    </tr>\n",
       "    <tr>\n",
       "      <th>std</th>\n",
       "      <td>252.370810</td>\n",
       "      <td>848.960483</td>\n",
       "    </tr>\n",
       "    <tr>\n",
       "      <th>min</th>\n",
       "      <td>2630.000000</td>\n",
       "      <td>5175.000000</td>\n",
       "    </tr>\n",
       "    <tr>\n",
       "      <th>25%</th>\n",
       "      <td>2670.000000</td>\n",
       "      <td>5662.500000</td>\n",
       "    </tr>\n",
       "    <tr>\n",
       "      <th>50%</th>\n",
       "      <td>2860.000000</td>\n",
       "      <td>6262.500000</td>\n",
       "    </tr>\n",
       "    <tr>\n",
       "      <th>75%</th>\n",
       "      <td>3080.000000</td>\n",
       "      <td>6718.750000</td>\n",
       "    </tr>\n",
       "    <tr>\n",
       "      <th>max</th>\n",
       "      <td>3320.000000</td>\n",
       "      <td>8150.000000</td>\n",
       "    </tr>\n",
       "  </tbody>\n",
       "</table>\n",
       "</div>"
      ],
      "text/plain": [
       "              EXCL         ISAT\n",
       "count    13.000000    12.000000\n",
       "mean   2899.230769  6289.583333\n",
       "std     252.370810   848.960483\n",
       "min    2630.000000  5175.000000\n",
       "25%    2670.000000  5662.500000\n",
       "50%    2860.000000  6262.500000\n",
       "75%    3080.000000  6718.750000\n",
       "max    3320.000000  8150.000000"
      ]
     },
     "execution_count": 15,
     "metadata": {},
     "output_type": "execute_result"
    }
   ],
   "source": [
    "data.describe()"
   ]
  },
  {
   "cell_type": "markdown",
   "id": "cb376764",
   "metadata": {
    "papermill": {
     "duration": 0.006645,
     "end_time": "2022-07-05T08:58:07.700111",
     "exception": false,
     "start_time": "2022-07-05T08:58:07.693466",
     "status": "completed"
    },
    "tags": []
   },
   "source": [
    "# **Linear Regression**\n",
    "\n",
    "\n",
    "\n",
    "**Constanta and Coefficient**\n"
   ]
  },
  {
   "cell_type": "code",
   "execution_count": 16,
   "id": "aa469590",
   "metadata": {
    "execution": {
     "iopub.execute_input": "2022-07-05T08:58:07.715664Z",
     "iopub.status.busy": "2022-07-05T08:58:07.715050Z",
     "iopub.status.idle": "2022-07-05T08:58:07.720232Z",
     "shell.execute_reply": "2022-07-05T08:58:07.719341Z"
    },
    "papermill": {
     "duration": 0.015195,
     "end_time": "2022-07-05T08:58:07.722238",
     "exception": false,
     "start_time": "2022-07-05T08:58:07.707043",
     "status": "completed"
    },
    "tags": []
   },
   "outputs": [],
   "source": [
    "X = data['EXCL'].values\n",
    "Y = data['ISAT'].values"
   ]
  },
  {
   "cell_type": "code",
   "execution_count": 17,
   "id": "0c0e77f5",
   "metadata": {
    "execution": {
     "iopub.execute_input": "2022-07-05T08:58:07.738139Z",
     "iopub.status.busy": "2022-07-05T08:58:07.737510Z",
     "iopub.status.idle": "2022-07-05T08:58:07.744749Z",
     "shell.execute_reply": "2022-07-05T08:58:07.743844Z"
    },
    "papermill": {
     "duration": 0.018414,
     "end_time": "2022-07-05T08:58:07.747558",
     "exception": false,
     "start_time": "2022-07-05T08:58:07.729144",
     "status": "completed"
    },
    "tags": []
   },
   "outputs": [
    {
     "name": "stdout",
     "output_type": "stream",
     "text": [
      "nan nan\n"
     ]
    }
   ],
   "source": [
    "#Mean X and Y\n",
    "mean_x = np.mean(X)\n",
    "mean_y = np.mean(Y)\n",
    "\n",
    "#Total number of values\n",
    "m = len(X)\n",
    "\n",
    "#using the formula to calculate b1 and b2\n",
    "numer = 0\n",
    "denom = 0\n",
    "for i in range(m):\n",
    "    numer += (X[i] - mean_x) * (Y[i]- mean_y)\n",
    "    denom += (X[i] - mean_x) ** 2\n",
    "b1 = numer/denom\n",
    "b0 = mean_y - (b1 * mean_x)\n",
    "\n",
    "#Print coefficients\n",
    "print(b1,b0)"
   ]
  },
  {
   "cell_type": "code",
   "execution_count": 18,
   "id": "900d609a",
   "metadata": {
    "execution": {
     "iopub.execute_input": "2022-07-05T08:58:07.765074Z",
     "iopub.status.busy": "2022-07-05T08:58:07.764635Z",
     "iopub.status.idle": "2022-07-05T08:58:07.771462Z",
     "shell.execute_reply": "2022-07-05T08:58:07.770669Z"
    },
    "papermill": {
     "duration": 0.016849,
     "end_time": "2022-07-05T08:58:07.773307",
     "exception": false,
     "start_time": "2022-07-05T08:58:07.756458",
     "status": "completed"
    },
    "tags": []
   },
   "outputs": [],
   "source": [
    "%matplotlib inline\n",
    "import matplotlib.pyplot as plt\n",
    "plt.rcParams['figure.figsize'] = (20.0, 10.0)"
   ]
  },
  {
   "cell_type": "code",
   "execution_count": 19,
   "id": "2b32b126",
   "metadata": {
    "execution": {
     "iopub.execute_input": "2022-07-05T08:58:07.790073Z",
     "iopub.status.busy": "2022-07-05T08:58:07.788970Z",
     "iopub.status.idle": "2022-07-05T08:58:08.050929Z",
     "shell.execute_reply": "2022-07-05T08:58:08.049365Z"
    },
    "papermill": {
     "duration": 0.273913,
     "end_time": "2022-07-05T08:58:08.054425",
     "exception": false,
     "start_time": "2022-07-05T08:58:07.780512",
     "status": "completed"
    },
    "tags": []
   },
   "outputs": [
    {
     "data": {
      "image/png": "[encoded data removed]",
      "text/plain": [
       "<Figure size 1440x720 with 1 Axes>"
      ]
     },
     "metadata": {
      "needs_background": "light"
     },
     "output_type": "display_data"
    }
   ],
   "source": [
    "#Plotting values and regression line\n",
    "max_x = np.max(X) + 100\n",
    "min_x = np.min(X) - 100\n",
    "\n",
    "#Calculating line values x and y\n",
    "x = np.linspace(min_x, max_x, 1000)\n",
    "y = b0 + b1 * x\n",
    "\n",
    "#Ploting line\n",
    "plt.plot(x,y, color='#58b970', label = 'Regression Line')\n",
    "\n",
    "#PLoting Scatter Points\n",
    "plt.scatter(X,Y, c='#ef5423', label='Scatter PLot')\n",
    "\n",
    "plt.xlabel('EXCL')\n",
    "plt.ylabel('ISAT')\n",
    "plt.legend()\n",
    "plt.show()"
   ]
  },
  {
   "cell_type": "code",
   "execution_count": 20,
   "id": "6cbd3da1",
   "metadata": {
    "execution": {
     "iopub.execute_input": "2022-07-05T08:58:08.071996Z",
     "iopub.status.busy": "2022-07-05T08:58:08.070757Z",
     "iopub.status.idle": "2022-07-05T08:58:08.345372Z",
     "shell.execute_reply": "2022-07-05T08:58:08.343957Z"
    },
    "papermill": {
     "duration": 0.285699,
     "end_time": "2022-07-05T08:58:08.347779",
     "exception": false,
     "start_time": "2022-07-05T08:58:08.062080",
     "status": "completed"
    },
    "tags": []
   },
   "outputs": [
    {
     "data": {
      "image/png": "[encoded data removed]",
      "text/plain": [
       "<Figure size 1440x720 with 1 Axes>"
      ]
     },
     "metadata": {
      "needs_background": "light"
     },
     "output_type": "display_data"
    }
   ],
   "source": [
    "data.plot(x='EXCL', y='ISAT', style='o')\n",
    "plt.title('EXCL and ISAT Precentage')\n",
    "plt.xlabel('EXCL')\n",
    "plt.ylabel('ISAT')\n",
    "plt.show()"
   ]
  },
  {
   "cell_type": "markdown",
   "id": "8647b396",
   "metadata": {
    "papermill": {
     "duration": 0.007569,
     "end_time": "2022-07-05T08:58:08.363280",
     "exception": false,
     "start_time": "2022-07-05T08:58:08.355711",
     "status": "completed"
    },
    "tags": []
   },
   "source": [
    "# **R Squared**"
   ]
  },
  {
   "cell_type": "code",
   "execution_count": 21,
   "id": "eeb0914c",
   "metadata": {
    "execution": {
     "iopub.execute_input": "2022-07-05T08:58:08.380859Z",
     "iopub.status.busy": "2022-07-05T08:58:08.380490Z",
     "iopub.status.idle": "2022-07-05T08:58:08.387578Z",
     "shell.execute_reply": "2022-07-05T08:58:08.386400Z"
    },
    "papermill": {
     "duration": 0.018813,
     "end_time": "2022-07-05T08:58:08.389951",
     "exception": false,
     "start_time": "2022-07-05T08:58:08.371138",
     "status": "completed"
    },
    "tags": []
   },
   "outputs": [
    {
     "name": "stdout",
     "output_type": "stream",
     "text": [
      "nan\n"
     ]
    }
   ],
   "source": [
    "ss_t = 0\n",
    "ss_r = 0\n",
    "for i in range(m):\n",
    "    y_pred = b0 + b1 * X[i]\n",
    "    ss_t += (Y[i] - mean_y) ** 2\n",
    "    ss_r += (Y[i] - y_pred) ** 2\n",
    "r2 = 1 - (ss_r/ss_t)\n",
    "print(r2)"
   ]
  }
 ],
 "metadata": {
  "kernelspec": {
   "display_name": "Python 3",
   "language": "python",
   "name": "python3"
  },
  "language_info": {
   "codemirror_mode": {
    "name": "ipython",
    "version": 3
   },
   "file_extension": ".py",
   "mimetype": "text/x-python",
   "name": "python",
   "nbconvert_exporter": "python",
   "pygments_lexer": "ipython3",
   "version": "3.7.12"
  },
  "papermill": {
   "default_parameters": {},
   "duration": 12.215305,
   "end_time": "2022-07-05T08:58:09.119543",
   "environment_variables": {},
   "exception": null,
   "input_path": "__notebook__.ipynb",
   "output_path": "__notebook__.ipynb",
   "parameters": {},
   "start_time": "2022-07-05T08:57:56.904238",
   "version": "2.3.4"
  }
 },
 "nbformat": 4,
 "nbformat_minor": 5
}
